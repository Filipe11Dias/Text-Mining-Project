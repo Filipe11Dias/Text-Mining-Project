{
 "cells": [
  {
   "cell_type": "markdown",
   "id": "handy-guarantee",
   "metadata": {},
   "source": [
    "# Text Mining Project"
   ]
  },
  {
   "cell_type": "code",
   "execution_count": 1,
   "id": "fifth-coupon",
   "metadata": {},
   "outputs": [],
   "source": [
    "import pandas as pd\n",
    "import numpy as np\n",
    "import re"
   ]
  },
  {
   "cell_type": "code",
   "execution_count": 3,
   "id": "peaceful-nightmare",
   "metadata": {},
   "outputs": [
    {
     "name": "stdout",
     "output_type": "stream",
     "text": [
      "bora git\n"
     ]
    }
   ],
   "source": [
    "print(\"bora git\")"
   ]
  },
  {
   "cell_type": "code",
   "execution_count": 4,
   "id": "subtle-might",
   "metadata": {},
   "outputs": [
    {
     "name": "stdout",
     "output_type": "stream",
     "text": [
      "Olá Mariana\n"
     ]
    }
   ],
   "source": [
    "print(\"Olá Mariana\")"
   ]
  },
  {
   "cell_type": "code",
   "execution_count": 5,
   "id": "facial-secondary",
   "metadata": {},
   "outputs": [
    {
     "name": "stdout",
     "output_type": "stream",
     "text": [
      "Rucula\n"
     ]
    }
   ],
   "source": [
    "print(\"Rucula\")"
   ]
  },
  {
   "cell_type": "code",
   "execution_count": 4,
   "id": "deadly-pattern",
   "metadata": {},
   "outputs": [
    {
     "name": "stdout",
     "output_type": "stream",
     "text": [
      "Cebolinho\n"
     ]
    }
   ],
   "source": [
    "print('Cebolinho')"
   ]
  },
  {
   "cell_type": "code",
   "execution_count": null,
   "id": "39983a8d",
   "metadata": {},
   "outputs": [],
   "source": []
  }
 ],
 "metadata": {
  "kernelspec": {
   "display_name": "Python 3",
   "language": "python",
   "name": "python3"
  },
  "language_info": {
   "codemirror_mode": {
    "name": "ipython",
    "version": 3
   },
   "file_extension": ".py",
   "mimetype": "text/x-python",
   "name": "python",
   "nbconvert_exporter": "python",
   "pygments_lexer": "ipython3",
   "version": "3.7.10"
  }
 },
 "nbformat": 4,
 "nbformat_minor": 5
}
