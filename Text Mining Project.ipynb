{
 "cells": [
  {
   "cell_type": "markdown",
   "id": "upset-capitol",
   "metadata": {},
   "source": [
    "# Text Mining Project"
   ]
  },
  {
   "cell_type": "code",
   "execution_count": 1,
   "id": "excellent-aerospace",
   "metadata": {},
   "outputs": [],
   "source": [
    "import pandas as pd\n",
    "import numpy as np\n",
    "import re"
   ]
  },
  {
   "cell_type": "code",
   "execution_count": 3,
   "id": "logical-calculator",
   "metadata": {},
   "outputs": [
    {
     "name": "stdout",
     "output_type": "stream",
     "text": [
      "bora git\n"
     ]
    }
   ],
   "source": [
    "print(\"bora git\")"
   ]
  },
  {
   "cell_type": "code",
   "execution_count": 4,
   "id": "executive-identity",
   "metadata": {},
   "outputs": [
    {
     "name": "stdout",
     "output_type": "stream",
     "text": [
      "Olá Mariana\n"
     ]
    }
   ],
   "source": [
    "print(\"Olá Mariana\")"
   ]
  },
  {
   "cell_type": "code",
   "execution_count": 1,
   "id": "4e925671",
   "metadata": {},
   "outputs": [
    {
     "name": "stdout",
     "output_type": "stream",
     "text": [
      "Ola Filipe\n"
     ]
    }
   ],
   "source": [
    "print('Ola Filipe')"
   ]
  },
  {
   "cell_type": "code",
   "execution_count": 5,
   "id": "stunning-finish",
   "metadata": {},
   "outputs": [
    {
     "name": "stdout",
     "output_type": "stream",
     "text": [
      "Rucula\n"
     ]
    }
   ],
   "source": [
    "print(\"Rucula\")"
   ]
  },
  {
   "cell_type": "code",
   "execution_count": 8,
   "id": "dental-league",
   "metadata": {},
   "outputs": [
    {
     "name": "stdout",
     "output_type": "stream",
     "text": [
      "trytrytry\n"
     ]
    }
   ],
   "source": [
    "print(\"trytrytry\")"
   ]
  },
  {
   "cell_type": "code",
   "execution_count": 7,
   "id": "dependent-crash",
   "metadata": {},
   "outputs": [
    {
     "name": "stdout",
     "output_type": "stream",
     "text": [
      "afa\n"
     ]
    }
   ],
   "source": [
    "print(\"afa\")"
   ]
  },
  {
   "cell_type": "code",
   "execution_count": null,
   "id": "certified-internship",
   "metadata": {},
   "outputs": [],
   "source": []
  }
 ],
 "metadata": {
  "kernelspec": {
   "display_name": "Python 3",
   "language": "python",
   "name": "python3"
  },
  "language_info": {
   "codemirror_mode": {
    "name": "ipython",
    "version": 3
   },
   "file_extension": ".py",
   "mimetype": "text/x-python",
   "name": "python",
   "nbconvert_exporter": "python",
   "pygments_lexer": "ipython3",
   "version": "3.7.10"
  }
 },
 "nbformat": 4,
 "nbformat_minor": 5
}
