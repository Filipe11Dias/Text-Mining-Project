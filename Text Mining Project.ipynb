{
 "cells": [
  {
   "cell_type": "markdown",
   "id": "tracked-plenty",
   "metadata": {},
   "source": [
    "# Text Mining Project"
   ]
  },
  {
   "cell_type": "code",
   "execution_count": 1,
   "id": "eight-vinyl",
   "metadata": {},
   "outputs": [],
   "source": [
    "import pandas as pd\n",
    "import numpy as np\n",
    "import re"
   ]
  },
  {
   "cell_type": "code",
   "execution_count": 3,
   "id": "subsequent-choice",
   "metadata": {},
   "outputs": [
    {
     "name": "stdout",
     "output_type": "stream",
     "text": [
      "bora git\n"
     ]
    }
   ],
   "source": [
    "print(\"bora git\")"
   ]
  },
  {
   "cell_type": "code",
   "execution_count": 4,
   "id": "tight-radiation",
   "metadata": {},
   "outputs": [
    {
     "name": "stdout",
     "output_type": "stream",
     "text": [
      "Olá Mariana\n"
     ]
    }
   ],
   "source": [
    "print(\"Olá Mariana\")"
   ]
  },
  {
   "cell_type": "code",
   "execution_count": 1,
   "id": "particular-script",
   "metadata": {},
   "outputs": [
    {
     "name": "stdout",
     "output_type": "stream",
     "text": [
      "Ola Filipe\n"
     ]
    }
   ],
   "source": [
    "print('Ola Filipe')"
   ]
  },
  {
   "cell_type": "code",
   "execution_count": 5,
   "id": "suspected-potential",
   "metadata": {},
   "outputs": [
    {
     "name": "stdout",
     "output_type": "stream",
     "text": [
      "Rucula\n"
     ]
    }
   ],
   "source": [
    "print(\"Rucula\")"
   ]
  },
  {
   "cell_type": "code",
   "execution_count": 8,
   "id": "first-uniform",
   "metadata": {},
   "outputs": [
    {
     "name": "stdout",
     "output_type": "stream",
     "text": [
      "trytrytry\n"
     ]
    }
   ],
   "source": [
    "print(\"trytrytry\")"
   ]
  },
  {
   "cell_type": "code",
   "execution_count": 7,
   "id": "married-collector",
   "metadata": {},
   "outputs": [
    {
     "name": "stdout",
     "output_type": "stream",
     "text": [
      "afa\n"
     ]
    }
   ],
   "source": [
    "print(\"afa\")"
   ]
  },
  {
   "cell_type": "code",
   "execution_count": null,
   "id": "otherwise-happiness",
   "metadata": {},
   "outputs": [],
   "source": []
  }
 ],
 "metadata": {
  "kernelspec": {
   "display_name": "Python 3",
   "language": "python",
   "name": "python3"
  },
  "language_info": {
   "codemirror_mode": {
    "name": "ipython",
    "version": 3
   },
   "file_extension": ".py",
   "mimetype": "text/x-python",
   "name": "python",
   "nbconvert_exporter": "python",
   "pygments_lexer": "ipython3",
   "version": "3.8.8"
  }
 },
 "nbformat": 4,
 "nbformat_minor": 5
}
