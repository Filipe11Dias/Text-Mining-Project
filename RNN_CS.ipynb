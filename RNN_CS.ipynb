{
 "cells": [
  {
   "cell_type": "code",
   "execution_count": 1,
   "id": "needed-meditation",
   "metadata": {},
   "outputs": [],
   "source": [
    "import pandas as pd\n",
    "import numpy as np\n",
    "\n",
    "import tensorflow as tf\n",
    "from tensorflow.keras import layers\n",
    "from tensorflow.keras.layers.experimental import preprocessing\n",
    "from tensorflow.keras import Input, layers\n",
    "from tensorflow.keras import activations\n",
    "from tensorflow.keras.models import *\n",
    "from tensorflow.keras.layers import *\n",
    "from tensorflow.keras import backend as k\n",
    "from tensorflow.keras.utils import plot_model\n",
    "from tensorflow.keras.callbacks import EarlyStopping, ReduceLROnPlateau, ModelCheckpoint\n",
    "\n",
    "from sklearn.model_selection import train_test_split\n",
    "from sklearn.metrics import classification_report\n",
    "\n",
    "\n",
    "# Make numpy values easier to read.\n",
    "np.set_printoptions(precision=3, suppress=True)"
   ]
  },
  {
   "cell_type": "markdown",
   "id": "another-uzbekistan",
   "metadata": {},
   "source": [
    "# Czech - English"
   ]
  },
  {
   "cell_type": "markdown",
   "id": "finite-tuition",
   "metadata": {},
   "source": [
    "## Training set "
   ]
  },
  {
   "cell_type": "code",
   "execution_count": 2,
   "id": "handled-identification",
   "metadata": {},
   "outputs": [],
   "source": [
    "# corpus_scor = \"C:/Users/pc/OneDrive - NOVAIMS/2º Semestre 2021/Text Mining/Project/Project laser embeddings/corpus/de-en/scores.csv\"\n",
    "# corpus_path_ref = \"C:/Users/pc/OneDrive - NOVAIMS/2º Semestre 2021/Text Mining/Project/Project laser embeddings/corpus/de-en/laser.reference_embeds.npy\"\n",
    "# corpus_path_source = \"C:/Users/pc/OneDrive - NOVAIMS/2º Semestre 2021/Text Mining/Project/Project laser embeddings/corpus/de-en/laser.source_embeds.npy\"\n",
    "# corpus_path_translation = \"C:/Users/pc/OneDrive - NOVAIMS/2º Semestre 2021/Text Mining/Project/Project laser embeddings/corpus/de-en/laser.translation_embeds.npy\""
   ]
  },
  {
   "cell_type": "code",
   "execution_count": 3,
   "id": "domestic-section",
   "metadata": {},
   "outputs": [],
   "source": [
    "corpus_scor = \"C:/Users/m20200655/OneDrive - NOVAIMS/2º Semestre 2021/Text Mining/Project/Project laser embeddings/corpus/cs-en/scores.csv\"\n",
    "corpus_path_ref = \"C:/Users/m20200655/OneDrive - NOVAIMS/2º Semestre 2021/Text Mining/Project/Project laser embeddings/corpus/cs-en/laser.reference_embeds.npy\"\n",
    "corpus_path_source = \"C:/Users/m20200655/OneDrive - NOVAIMS/2º Semestre 2021/Text Mining/Project/Project laser embeddings/corpus/cs-en/laser.source_embeds.npy\"\n",
    "corpus_path_translation = \"C:/Users/m20200655/OneDrive - NOVAIMS/2º Semestre 2021/Text Mining/Project/Project laser embeddings/corpus/cs-en/laser.translation_embeds.npy\""
   ]
  },
  {
   "cell_type": "code",
   "execution_count": 4,
   "id": "judicial-guarantee",
   "metadata": {},
   "outputs": [],
   "source": [
    "corpus_scores = pd.read_csv(corpus_scor)\n",
    "corpus_reference = np.load(corpus_path_ref, mmap_mode=None, allow_pickle=False, fix_imports=True, encoding='ASCII')\n",
    "corpus_source = np.load(corpus_path_source, mmap_mode=None, allow_pickle=False, fix_imports=True, encoding='ASCII')\n",
    "corpus_translation = np.load(corpus_path_translation, mmap_mode=None, allow_pickle=False, fix_imports=True, encoding='ASCII')"
   ]
  },
  {
   "cell_type": "code",
   "execution_count": 5,
   "id": "functioning-ceiling",
   "metadata": {},
   "outputs": [
    {
     "name": "stdout",
     "output_type": "stream",
     "text": [
      "(11585, 11585) (11585, 11585)\n",
      "(11585, 1024) (11585, 1024)\n",
      "(11585, 27266) (11585, 3072)\n"
     ]
    }
   ],
   "source": [
    "# [h; r; h \f",
    "s; h \f",
    " r; |h − s|; |h − r|] \n",
    "\n",
    "# Dot product Translation + source\n",
    "h_dot_s = np.dot(corpus_translation,corpus_source.T)\n",
    "\n",
    "# dot product tranlation reference\n",
    "h_dot_r = np.dot(corpus_translation,corpus_reference.T)\n",
    "\n",
    "# Absolute difference translation-source\n",
    "abs_h_s = np.absolute(corpus_translation - corpus_source)\n",
    "abs_h_s.shape\n",
    "\n",
    "# Absolute difference translation-reference\n",
    "abs_h_r = np.absolute(corpus_translation - corpus_reference)\n",
    "abs_h_r.shape\n",
    "\n",
    "train = np.concatenate((corpus_translation,corpus_reference,h_dot_s,h_dot_r,abs_h_s,abs_h_r),axis=1)\n",
    "\n",
    "little_train = np.concatenate((corpus_translation,corpus_reference,abs_h_r),axis=1)\n",
    "\n",
    "print(h_dot_s.shape,h_dot_r.shape)\n",
    "print(abs_h_s.shape,abs_h_r.shape)\n",
    "print(train.shape,little_train.shape )"
   ]
  },
  {
   "cell_type": "code",
   "execution_count": 6,
   "id": "advanced-sleeping",
   "metadata": {},
   "outputs": [],
   "source": [
    "test_scor = \"C:/Users/m20200655/OneDrive - NOVAIMS/2º Semestre 2021/Text Mining/Project/Project laser embeddings/testset/cs-en/scores.csv\"\n",
    "testset_path_ref = \"C:/Users/m20200655/OneDrive - NOVAIMS/2º Semestre 2021/Text Mining/Project/Project laser embeddings/testset/cs-en/laser.reference_embeds.npy\"\n",
    "testset_path_source = \"C:/Users/m20200655/OneDrive - NOVAIMS/2º Semestre 2021/Text Mining/Project/Project laser embeddings/testset/cs-en/laser.source_embeds.npy\"\n",
    "testset_path_translation = \"C:/Users/m20200655/OneDrive - NOVAIMS/2º Semestre 2021/Text Mining/Project/Project laser embeddings/testset/cs-en/laser.translation_embeds.npy\""
   ]
  },
  {
   "cell_type": "code",
   "execution_count": 7,
   "id": "sitting-rhythm",
   "metadata": {},
   "outputs": [],
   "source": [
    "test_score = pd.read_csv(test_scor)\n",
    "testset_reference = np.load(testset_path_ref, mmap_mode=None, allow_pickle=False, fix_imports=True, encoding='ASCII')\n",
    "testset_source = np.load(testset_path_source, mmap_mode=None, allow_pickle=False, fix_imports=True, encoding='ASCII')\n",
    "testset_translation = np.load(testset_path_translation, mmap_mode=None, allow_pickle=False, fix_imports=True, encoding='ASCII')"
   ]
  },
  {
   "cell_type": "code",
   "execution_count": 9,
   "id": "sustainable-gateway",
   "metadata": {},
   "outputs": [
    {
     "data": {
      "text/html": [
       "<div>\n",
       "<style scoped>\n",
       "    .dataframe tbody tr th:only-of-type {\n",
       "        vertical-align: middle;\n",
       "    }\n",
       "\n",
       "    .dataframe tbody tr th {\n",
       "        vertical-align: top;\n",
       "    }\n",
       "\n",
       "    .dataframe thead th {\n",
       "        text-align: right;\n",
       "    }\n",
       "</style>\n",
       "<table border=\"1\" class=\"dataframe\">\n",
       "  <thead>\n",
       "    <tr style=\"text-align: right;\">\n",
       "      <th></th>\n",
       "      <th>source</th>\n",
       "      <th>reference</th>\n",
       "      <th>translation</th>\n",
       "    </tr>\n",
       "  </thead>\n",
       "  <tbody>\n",
       "    <tr>\n",
       "      <th>8727</th>\n",
       "      <td>Convercent vybral v rámci své únorové kampaně ...</td>\n",
       "      <td>Convercent picked in the framework of its Febr...</td>\n",
       "      <td>Convercent raised $10 million in funding in Fe...</td>\n",
       "    </tr>\n",
       "    <tr>\n",
       "      <th>8728</th>\n",
       "      <td>Kde všude mohou Češi volit?</td>\n",
       "      <td>Where can the Czechs to vote?</td>\n",
       "      <td>Where in the world can Czechs vote?</td>\n",
       "    </tr>\n",
       "    <tr>\n",
       "      <th>8729</th>\n",
       "      <td>Hlavní zkoušky letošní rekonstrukce započaly v...</td>\n",
       "      <td>The main test of this year's renovation began ...</td>\n",
       "      <td>Rehearsals for this year's production began in...</td>\n",
       "    </tr>\n",
       "    <tr>\n",
       "      <th>8730</th>\n",
       "      <td>Většina z tisíců vražd, ke kterým dochází každ...</td>\n",
       "      <td>Most of the thousands of murders occurring eve...</td>\n",
       "      <td>As with most of the thousands of murders tied ...</td>\n",
       "    </tr>\n",
       "    <tr>\n",
       "      <th>8731</th>\n",
       "      <td>Proti tomu je Mitt Romney ztělesněním zdravého...</td>\n",
       "      <td>Against this is Mitt Romney the epitome of com...</td>\n",
       "      <td>Making Mitt Romney seem the epitome of common ...</td>\n",
       "    </tr>\n",
       "  </tbody>\n",
       "</table>\n",
       "</div>"
      ],
      "text/plain": [
       "                                                 source  \\\n",
       "8727  Convercent vybral v rámci své únorové kampaně ...   \n",
       "8728                        Kde všude mohou Češi volit?   \n",
       "8729  Hlavní zkoušky letošní rekonstrukce započaly v...   \n",
       "8730  Většina z tisíců vražd, ke kterým dochází každ...   \n",
       "8731  Proti tomu je Mitt Romney ztělesněním zdravého...   \n",
       "\n",
       "                                              reference  \\\n",
       "8727  Convercent picked in the framework of its Febr...   \n",
       "8728                      Where can the Czechs to vote?   \n",
       "8729  The main test of this year's renovation began ...   \n",
       "8730  Most of the thousands of murders occurring eve...   \n",
       "8731  Against this is Mitt Romney the epitome of com...   \n",
       "\n",
       "                                            translation  \n",
       "8727  Convercent raised $10 million in funding in Fe...  \n",
       "8728                Where in the world can Czechs vote?  \n",
       "8729  Rehearsals for this year's production began in...  \n",
       "8730  As with most of the thousands of murders tied ...  \n",
       "8731  Making Mitt Romney seem the epitome of common ...  "
      ]
     },
     "execution_count": 9,
     "metadata": {},
     "output_type": "execute_result"
    }
   ],
   "source": [
    "test_score.tail()"
   ]
  },
  {
   "cell_type": "code",
   "execution_count": 8,
   "id": "amber-diamond",
   "metadata": {},
   "outputs": [
    {
     "name": "stdout",
     "output_type": "stream",
     "text": [
      "(8732, 8732) (8732, 8732)\n",
      "(8732, 1024) (8732, 1024)\n",
      "(8732, 21560) (8732, 3072)\n"
     ]
    }
   ],
   "source": [
    "# [h; r; h \f",
    "s; h \f",
    " r; |h − s|; |h − r|] \n",
    "\n",
    "# Dot product Translation + source\n",
    "h_dot_s = np.dot(testset_translation,testset_source.T)\n",
    "\n",
    "# dot product tranlation reference\n",
    "h_dot_r = np.dot(testset_translation,testset_reference.T)\n",
    "\n",
    "# Absolute difference translation-source\n",
    "abs_h_s = np.absolute(testset_translation - testset_source)\n",
    "abs_h_s.shape\n",
    "\n",
    "# Absolute difference translation-reference\n",
    "abs_h_r = np.absolute(testset_translation - testset_reference)\n",
    "abs_h_r.shape\n",
    "\n",
    "test = np.concatenate((testset_translation,testset_reference,h_dot_s,h_dot_r,abs_h_s,abs_h_r),axis=1)\n",
    "\n",
    "little_test = np.concatenate((testset_translation,testset_reference,abs_h_r),axis=1)\n",
    "\n",
    "print(h_dot_s.shape,h_dot_r.shape)\n",
    "print(abs_h_s.shape,abs_h_r.shape)\n",
    "print(test.shape,little_test.shape )"
   ]
  },
  {
   "cell_type": "markdown",
   "id": "knowing-chorus",
   "metadata": {},
   "source": [
    "# Simple feed forward network"
   ]
  },
  {
   "cell_type": "markdown",
   "id": "improving-chicken",
   "metadata": {},
   "source": [
    "<!-- # LSTM\n",
    "## Text Classification with RNN - bi-directional \n",
    "https://www.tensorflow.org/tutorials/text/text_classification_rnn -->"
   ]
  },
  {
   "cell_type": "code",
   "execution_count": 9,
   "id": "north-privacy",
   "metadata": {},
   "outputs": [],
   "source": [
    "import matplotlib.pyplot as plt\n",
    "\n",
    "def plot_graphs(history, metric):\n",
    "    plt.plot(history.history[metric])\n",
    "    plt.plot(history.history['val_'+metric], '')\n",
    "    plt.xlabel(\"Epochs\")\n",
    "    plt.ylabel(metric)\n",
    "    plt.legend([metric, 'val_'+metric])"
   ]
  },
  {
   "cell_type": "code",
   "execution_count": 10,
   "id": "regular-heating",
   "metadata": {},
   "outputs": [
    {
     "data": {
      "text/plain": [
       "(11585,)"
      ]
     },
     "execution_count": 10,
     "metadata": {},
     "output_type": "execute_result"
    }
   ],
   "source": [
    "reference_labels = np.array(corpus_scores['z-score'])\n",
    "reference_labels.shape"
   ]
  },
  {
   "cell_type": "code",
   "execution_count": 11,
   "id": "fossil-revolution",
   "metadata": {},
   "outputs": [
    {
     "data": {
      "text/plain": [
       "(11585, 3072)"
      ]
     },
     "execution_count": 11,
     "metadata": {},
     "output_type": "execute_result"
    }
   ],
   "source": [
    "X = little_train\n",
    "X.shape"
   ]
  },
  {
   "cell_type": "code",
   "execution_count": 12,
   "id": "musical-vegetarian",
   "metadata": {},
   "outputs": [
    {
     "data": {
      "text/plain": [
       "(11585,)"
      ]
     },
     "execution_count": 12,
     "metadata": {},
     "output_type": "execute_result"
    }
   ],
   "source": [
    "Y = reference_labels\n",
    "Y.shape"
   ]
  },
  {
   "cell_type": "code",
   "execution_count": 13,
   "id": "buried-reducing",
   "metadata": {},
   "outputs": [
    {
     "name": "stdout",
     "output_type": "stream",
     "text": [
      "(9268, 3072) (9268,)\n",
      "(2317, 3072) (2317,)\n"
     ]
    }
   ],
   "source": [
    "X_train, X_val, Y_train, Y_val = train_test_split(X,Y, test_size = 0.20, random_state = 42)\n",
    "print(X_train.shape,Y_train.shape)\n",
    "print(X_val.shape,Y_val.shape)"
   ]
  },
  {
   "cell_type": "code",
   "execution_count": 14,
   "id": "persistent-probability",
   "metadata": {},
   "outputs": [],
   "source": [
    "# # X_train = X_train.reshape(-1,1,1024)\n",
    "# # X_val = X_val.reshape(-1,1,1024)\n",
    "# # Y_train = Y_train.reshape(-1,1,1)\n",
    "# # Y_val = Y_val.reshape(-1,1,1)\n",
    "# # print(X_train.shape,Y_train.shape)\n",
    "# # print(X_val.shape,Y_val.shape)\n",
    "\n",
    "# X_train=X_train.reshape(X_train.shape[0],X_train.shape[1],1)\n",
    "\n",
    "# # Y_train=Y_train.reshape(Y_train.shape[0],Y_train.shape[1],1)\n",
    "\n",
    "# X_val=X_val.reshape(X_val.shape[0],X_val.shape[1],1)\n",
    "\n",
    "# Y_val=Y_val.reshape(Y_val.shape[0],Y_val.shape[1],1)\n",
    "\n",
    "# print(X_train.shape,Y_train.shape)\n",
    "# print(X_val.shape,Y_val.shape)"
   ]
  },
  {
   "cell_type": "code",
   "execution_count": 15,
   "id": "urban-separate",
   "metadata": {},
   "outputs": [],
   "source": [
    "# Callbacks\n",
    "batch_size =10248\n",
    "\n",
    "early_stop = tf.keras.callbacks.EarlyStopping(monitor='loss', patience=25)\n",
    "\n",
    "reduce_lr = ReduceLROnPlateau(monitor='val_loss', factor=0.0001,\n",
    "                              patience=5, min_lr=0.0001)\n",
    "\n",
    "mcp = ModelCheckpoint('model.h5', \n",
    "                      monitor='val_loss', verbose=1, \n",
    "                      save_best_only=True, save_weights_only=True)"
   ]
  },
  {
   "cell_type": "code",
   "execution_count": 16,
   "id": "dietary-providence",
   "metadata": {},
   "outputs": [],
   "source": [
    "# model with better results \n",
    "model = Sequential()\n",
    "model.add(Dense(1024, input_shape=(X_train.shape[1],), activation = 'relu'))\n",
    "# model.add(Dropout(0.1))\n",
    "model.add(Dense(512, activation ='relu'))\n",
    "model.add(Dropout(0.1))\n",
    "model.add(Dense(256, activation ='relu'))\n",
    "model.add(Dropout(0.1))\n",
    "model.add(Dense(128, activation ='relu'))\n",
    "model.add(Dense(1))"
   ]
  },
  {
   "cell_type": "code",
   "execution_count": 17,
   "id": "supported-logic",
   "metadata": {},
   "outputs": [],
   "source": [
    "# # Callbacks\n",
    "\n",
    "# early_stop = tf.keras.callbacks.EarlyStopping(monitor='val_loss', patience=50)\n",
    "\n",
    "# reduce_lr = ReduceLROnPlateau(monitor='val_loss', factor=0.0001,\n",
    "#                               patience=5, min_lr=0.00001)\n",
    "\n",
    "# mcp = ModelCheckpoint('model.h5', \n",
    "#                       monitor='val_loss', verbose=0, \n",
    "#                       save_best_only=True, save_weights_only=True)\n",
    "\n",
    "# batch_size = 14336\n",
    "\n",
    "# model = Sequential()\n",
    "\n",
    "# model.add(Dense(2048, input_shape=(X_train.shape[1],), activation = 'relu'))\n",
    "# # model.add(Dropout(0.1))\n",
    "# model.add(Dense(1024, activation ='relu'))\n",
    "# model.add(Dropout(0.1))\n",
    "# model.add(Dense(512, activation ='relu'))\n",
    "# model.add(Dropout(0.1))\n",
    "# model.add(Dense(256, activation ='relu'))\n",
    "# model.add(Dropout(0.1))\n",
    "# model.add(Dense(128, activation ='relu'))\n",
    "# model.add(Dense(1))"
   ]
  },
  {
   "cell_type": "code",
   "execution_count": 18,
   "id": "interracial-french",
   "metadata": {},
   "outputs": [],
   "source": [
    "model.compile(loss=tf.keras.losses.MSE,\n",
    "              optimizer=tf.keras.optimizers.RMSprop(learning_rate=0.001),\n",
    "              metrics=['mae'])"
   ]
  },
  {
   "cell_type": "code",
   "execution_count": 19,
   "id": "figured-shower",
   "metadata": {},
   "outputs": [
    {
     "name": "stdout",
     "output_type": "stream",
     "text": [
      "Fit model on training data\n"
     ]
    }
   ],
   "source": [
    "print(\"Fit model on training data\")\n",
    "history = model.fit(\n",
    "    X_train,\n",
    "    Y_train,\n",
    "    epochs=150, # previous 1000\n",
    "    batch_size =batch_size,# previous one 8192 #4096 - best score so far\n",
    "    # We pass some validation for\n",
    "    # monitoring validation loss and metrics\n",
    "    # at the end of each epoch\n",
    "    validation_data=(X_val, Y_val),verbose =0, callbacks=[early_stop,reduce_lr]) # validation_split=0.2,mcp"
   ]
  },
  {
   "cell_type": "code",
   "execution_count": 20,
   "id": "entire-sweet",
   "metadata": {},
   "outputs": [
    {
     "data": {
      "text/plain": [
       "(0.0, 1.394529715180397)"
      ]
     },
     "execution_count": 20,
     "metadata": {},
     "output_type": "execute_result"
    },
    {
     "data": {
      "image/png": "[encoded data removed]",
      "text/plain": [
       "<Figure size 1152x576 with 2 Axes>"
      ]
     },
     "metadata": {
      "needs_background": "light"
     },
     "output_type": "display_data"
    }
   ],
   "source": [
    "plt.figure(figsize=(16, 8))\n",
    "plt.subplot(1, 2, 1)\n",
    "plot_graphs(history, 'mae')\n",
    "plt.ylim(None, 1)\n",
    "plt.subplot(1, 2, 2)\n",
    "plot_graphs(history, 'loss')\n",
    "plt.ylim(0, None)"
   ]
  },
  {
   "cell_type": "code",
   "execution_count": 21,
   "id": "controlling-twenty",
   "metadata": {},
   "outputs": [
    {
     "name": "stdout",
     "output_type": "stream",
     "text": [
      "Evaluate on test data\n",
      "1/1 [==============================] - 0s 501us/step - loss: 0.6872 - mae: 0.6685\n",
      "test loss, test acc: [0.6871801018714905, 0.6685090065002441]\n"
     ]
    }
   ],
   "source": [
    "# Evaluate the model on the test data using `evaluate`\n",
    "\n",
    "print(\"Evaluate on test data\")\n",
    "results = model.evaluate(X_val, Y_val, batch_size=batch_size)\n",
    "print(\"test loss, test acc:\", results)"
   ]
  },
  {
   "cell_type": "markdown",
   "id": "generic-barbados",
   "metadata": {},
   "source": [
    "# predicting @ test data"
   ]
  },
  {
   "cell_type": "code",
   "execution_count": 22,
   "id": "comparable-emergency",
   "metadata": {},
   "outputs": [
    {
     "name": "stdout",
     "output_type": "stream",
     "text": [
      "Generate predictions samples\n",
      "predictions shape: (8732, 1)\n"
     ]
    }
   ],
   "source": [
    "# Generate predictions (probabilities -- the output of the last layer) on new data using `predict`\n",
    "print(\"Generate predictions samples\")\n",
    "predictions = model.predict(little_test)\n",
    "print(\"predictions shape:\", predictions.shape)"
   ]
  },
  {
   "cell_type": "code",
   "execution_count": 23,
   "id": "boolean-romania",
   "metadata": {},
   "outputs": [
    {
     "data": {
      "text/html": [
       "<div>\n",
       "<style scoped>\n",
       "    .dataframe tbody tr th:only-of-type {\n",
       "        vertical-align: middle;\n",
       "    }\n",
       "\n",
       "    .dataframe tbody tr th {\n",
       "        vertical-align: top;\n",
       "    }\n",
       "\n",
       "    .dataframe thead th {\n",
       "        text-align: right;\n",
       "    }\n",
       "</style>\n",
       "<table border=\"1\" class=\"dataframe\">\n",
       "  <thead>\n",
       "    <tr style=\"text-align: right;\">\n",
       "      <th></th>\n",
       "      <th>source</th>\n",
       "      <th>reference</th>\n",
       "      <th>translation</th>\n",
       "      <th>lp</th>\n",
       "      <th>score</th>\n",
       "    </tr>\n",
       "  </thead>\n",
       "  <tbody>\n",
       "    <tr>\n",
       "      <th>0</th>\n",
       "      <td>Památník, důstojné pietní místo, stojí vůlí dě...</td>\n",
       "      <td>The monument, a dignified piecemeal place, sta...</td>\n",
       "      <td>The memorial, a solemn place of commemoration,...</td>\n",
       "      <td>cs-en</td>\n",
       "      <td>0.046766</td>\n",
       "    </tr>\n",
       "    <tr>\n",
       "      <th>1</th>\n",
       "      <td>Pracovník centra Čang Č-čung sdělil agentuře N...</td>\n",
       "      <td>Centre worker Zhang Zu-chung told the New Chin...</td>\n",
       "      <td>Centre worker Chang Chi-Chung told New China t...</td>\n",
       "      <td>cs-en</td>\n",
       "      <td>0.009788</td>\n",
       "    </tr>\n",
       "    <tr>\n",
       "      <th>2</th>\n",
       "      <td>Veterináři nicméně odeberou namátkové vzorky v...</td>\n",
       "      <td>However, veterinarians take random samples of ...</td>\n",
       "      <td>However, veterinarians are taking samples of e...</td>\n",
       "      <td>cs-en</td>\n",
       "      <td>0.120391</td>\n",
       "    </tr>\n",
       "    <tr>\n",
       "      <th>3</th>\n",
       "      <td>Uživatel @TheePharoah jí neustále retweetoval ...</td>\n",
       "      <td>User @ TheePharoah constantly retweeted her po...</td>\n",
       "      <td>A user with the handle @TheePharoah was being ...</td>\n",
       "      <td>cs-en</td>\n",
       "      <td>-0.165789</td>\n",
       "    </tr>\n",
       "    <tr>\n",
       "      <th>4</th>\n",
       "      <td>Lucii bylo tehdy pouhých 19 let a rozhodně net...</td>\n",
       "      <td>Lucia was only 19 at the time and certainly ha...</td>\n",
       "      <td>At that time, Lucie was only 19 years old, and...</td>\n",
       "      <td>cs-en</td>\n",
       "      <td>-0.088124</td>\n",
       "    </tr>\n",
       "  </tbody>\n",
       "</table>\n",
       "</div>"
      ],
      "text/plain": [
       "                                              source  \\\n",
       "0  Památník, důstojné pietní místo, stojí vůlí dě...   \n",
       "1  Pracovník centra Čang Č-čung sdělil agentuře N...   \n",
       "2  Veterináři nicméně odeberou namátkové vzorky v...   \n",
       "3  Uživatel @TheePharoah jí neustále retweetoval ...   \n",
       "4  Lucii bylo tehdy pouhých 19 let a rozhodně net...   \n",
       "\n",
       "                                           reference  \\\n",
       "0  The monument, a dignified piecemeal place, sta...   \n",
       "1  Centre worker Zhang Zu-chung told the New Chin...   \n",
       "2  However, veterinarians take random samples of ...   \n",
       "3  User @ TheePharoah constantly retweeted her po...   \n",
       "4  Lucia was only 19 at the time and certainly ha...   \n",
       "\n",
       "                                         translation     lp     score  \n",
       "0  The memorial, a solemn place of commemoration,...  cs-en  0.046766  \n",
       "1  Centre worker Chang Chi-Chung told New China t...  cs-en  0.009788  \n",
       "2  However, veterinarians are taking samples of e...  cs-en  0.120391  \n",
       "3  A user with the handle @TheePharoah was being ...  cs-en -0.165789  \n",
       "4  At that time, Lucie was only 19 years old, and...  cs-en -0.088124  "
      ]
     },
     "execution_count": 23,
     "metadata": {},
     "output_type": "execute_result"
    }
   ],
   "source": [
    "test_score['lp'] = 'cs-en'\n",
    "test_score['score'] = predictions\n",
    "test_score.head()"
   ]
  },
  {
   "cell_type": "code",
   "execution_count": 24,
   "id": "increasing-barrier",
   "metadata": {},
   "outputs": [],
   "source": [
    "test_score.to_csv('cs-en_predictions.csv')"
   ]
  },
  {
   "cell_type": "markdown",
   "id": "passive-verse",
   "metadata": {},
   "source": [
    "# checking corr @ X_val"
   ]
  },
  {
   "cell_type": "code",
   "execution_count": 25,
   "id": "naval-confirmation",
   "metadata": {},
   "outputs": [
    {
     "name": "stdout",
     "output_type": "stream",
     "text": [
      "Generate predictions samples\n",
      "predictions shape: (2317, 1)\n"
     ]
    }
   ],
   "source": [
    "# Generate predictions (probabilities -- the output of the last layer) on new data using `predict`\n",
    "print(\"Generate predictions samples\")\n",
    "predictions = model.predict(X_val)\n",
    "print(\"predictions shape:\", predictions.shape)"
   ]
  },
  {
   "cell_type": "code",
   "execution_count": 26,
   "id": "realistic-continuity",
   "metadata": {},
   "outputs": [
    {
     "data": {
      "text/html": [
       "<div>\n",
       "<style scoped>\n",
       "    .dataframe tbody tr th:only-of-type {\n",
       "        vertical-align: middle;\n",
       "    }\n",
       "\n",
       "    .dataframe tbody tr th {\n",
       "        vertical-align: top;\n",
       "    }\n",
       "\n",
       "    .dataframe thead th {\n",
       "        text-align: right;\n",
       "    }\n",
       "</style>\n",
       "<table border=\"1\" class=\"dataframe\">\n",
       "  <thead>\n",
       "    <tr style=\"text-align: right;\">\n",
       "      <th></th>\n",
       "      <th>z-score</th>\n",
       "      <th>predictions</th>\n",
       "    </tr>\n",
       "  </thead>\n",
       "  <tbody>\n",
       "    <tr>\n",
       "      <th>z-score</th>\n",
       "      <td>1.000000</td>\n",
       "      <td>0.402606</td>\n",
       "    </tr>\n",
       "    <tr>\n",
       "      <th>predictions</th>\n",
       "      <td>0.402606</td>\n",
       "      <td>1.000000</td>\n",
       "    </tr>\n",
       "  </tbody>\n",
       "</table>\n",
       "</div>"
      ],
      "text/plain": [
       "              z-score  predictions\n",
       "z-score      1.000000     0.402606\n",
       "predictions  0.402606     1.000000"
      ]
     },
     "execution_count": 26,
     "metadata": {},
     "output_type": "execute_result"
    }
   ],
   "source": [
    "corr_data = pd.DataFrame([Y_val]).T\n",
    "pred = pd.DataFrame(predictions)\n",
    "corr_data['predictions'] = pred\n",
    "corr_data.columns = ['z-score','predictions']\n",
    "corr_data.corr()"
   ]
  }
 ],
 "metadata": {
  "kernelspec": {
   "display_name": "Python 3 (ipykernel)",
   "language": "python",
   "name": "python3"
  },
  "language_info": {
   "codemirror_mode": {
    "name": "ipython",
    "version": 3
   },
   "file_extension": ".py",
   "mimetype": "text/x-python",
   "name": "python",
   "nbconvert_exporter": "python",
   "pygments_lexer": "ipython3",
   "version": "3.8.11"
  }
 },
 "nbformat": 4,
 "nbformat_minor": 5
}
