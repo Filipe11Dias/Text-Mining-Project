{
 "cells": [
  {
   "cell_type": "code",
   "execution_count": 1,
   "id": "convinced-honolulu",
   "metadata": {},
   "outputs": [],
   "source": [
    "import pandas as pd\n",
    "import numpy as np\n",
    "\n",
    "import tensorflow as tf\n",
    "from tensorflow.keras import layers\n",
    "from tensorflow.keras.layers.experimental import preprocessing\n",
    "from tensorflow.keras import Input, layers\n",
    "from tensorflow.keras import activations\n",
    "from tensorflow.keras.models import *\n",
    "from tensorflow.keras.layers import *\n",
    "from tensorflow.keras import backend as k\n",
    "from tensorflow.keras.utils import plot_model\n",
    "from tensorflow.keras.callbacks import EarlyStopping, ReduceLROnPlateau, ModelCheckpoint\n",
    "\n",
    "from sklearn.model_selection import train_test_split\n",
    "from sklearn.metrics import classification_report\n",
    "\n",
    "\n",
    "# Make numpy values easier to read.\n",
    "np.set_printoptions(precision=3, suppress=True)"
   ]
  },
  {
   "cell_type": "markdown",
   "id": "induced-overall",
   "metadata": {},
   "source": [
    "# English - ZH"
   ]
  },
  {
   "cell_type": "markdown",
   "id": "lonely-correspondence",
   "metadata": {},
   "source": [
    "## Training set "
   ]
  },
  {
   "cell_type": "code",
   "execution_count": 2,
   "id": "dutch-walter",
   "metadata": {},
   "outputs": [],
   "source": [
    "# corpus_scor = \"C:/Users/pc/OneDrive - NOVAIMS/2º Semestre 2021/Text Mining/Project/Project laser embeddings/corpus/de-en/scores.csv\"\n",
    "# corpus_path_ref = \"C:/Users/pc/OneDrive - NOVAIMS/2º Semestre 2021/Text Mining/Project/Project laser embeddings/corpus/de-en/laser.reference_embeds.npy\"\n",
    "# corpus_path_source = \"C:/Users/pc/OneDrive - NOVAIMS/2º Semestre 2021/Text Mining/Project/Project laser embeddings/corpus/de-en/laser.source_embeds.npy\"\n",
    "# corpus_path_translation = \"C:/Users/pc/OneDrive - NOVAIMS/2º Semestre 2021/Text Mining/Project/Project laser embeddings/corpus/de-en/laser.translation_embeds.npy\""
   ]
  },
  {
   "cell_type": "code",
   "execution_count": 3,
   "id": "dynamic-queen",
   "metadata": {},
   "outputs": [],
   "source": [
    "corpus_scor = \"C:/Users/m20200655/OneDrive - NOVAIMS/2º Semestre 2021/Text Mining/Project/Project laser embeddings/corpus/en-zh/scores.csv\"\n",
    "corpus_path_ref = \"C:/Users/m20200655/OneDrive - NOVAIMS/2º Semestre 2021/Text Mining/Project/Project laser embeddings/corpus/en-zh/laser.reference_embeds.npy\"\n",
    "corpus_path_source = \"C:/Users/m20200655/OneDrive - NOVAIMS/2º Semestre 2021/Text Mining/Project/Project laser embeddings/corpus/en-zh/laser.source_embeds.npy\"\n",
    "corpus_path_translation = \"C:/Users/m20200655/OneDrive - NOVAIMS/2º Semestre 2021/Text Mining/Project/Project laser embeddings/corpus/en-zh/laser.translation_embeds.npy\""
   ]
  },
  {
   "cell_type": "code",
   "execution_count": 4,
   "id": "republican-firmware",
   "metadata": {},
   "outputs": [],
   "source": [
    "corpus_scores = pd.read_csv(corpus_scor)\n",
    "corpus_reference = np.load(corpus_path_ref, mmap_mode=None, allow_pickle=False, fix_imports=True, encoding='ASCII')\n",
    "corpus_source = np.load(corpus_path_source, mmap_mode=None, allow_pickle=False, fix_imports=True, encoding='ASCII')\n",
    "corpus_translation = np.load(corpus_path_translation, mmap_mode=None, allow_pickle=False, fix_imports=True, encoding='ASCII')"
   ]
  },
  {
   "cell_type": "code",
   "execution_count": 5,
   "id": "indian-marketing",
   "metadata": {},
   "outputs": [
    {
     "name": "stdout",
     "output_type": "stream",
     "text": [
      "(10221, 10221) (10221, 10221)\n",
      "(10221, 1024) (10221, 1024)\n",
      "(10221, 24538) (10221, 3072)\n"
     ]
    }
   ],
   "source": [
    "# [h; r; h \f",
    "s; h \f",
    " r; |h − s|; |h − r|] \n",
    "\n",
    "# Dot product Translation + source\n",
    "h_dot_s = np.dot(corpus_translation,corpus_source.T)\n",
    "\n",
    "# dot product tranlation reference\n",
    "h_dot_r = np.dot(corpus_translation,corpus_reference.T)\n",
    "\n",
    "# Absolute difference translation-source\n",
    "abs_h_s = np.absolute(corpus_translation - corpus_source)\n",
    "abs_h_s.shape\n",
    "\n",
    "# Absolute difference translation-reference\n",
    "abs_h_r = np.absolute(corpus_translation - corpus_reference)\n",
    "abs_h_r.shape\n",
    "\n",
    "train = np.concatenate((corpus_translation,corpus_reference,h_dot_s,h_dot_r,abs_h_s,abs_h_r),axis=1)\n",
    "\n",
    "little_train = np.concatenate((corpus_translation,corpus_reference,abs_h_r),axis=1)\n",
    "\n",
    "print(h_dot_s.shape,h_dot_r.shape)\n",
    "print(abs_h_s.shape,abs_h_r.shape)\n",
    "print(train.shape,little_train.shape )"
   ]
  },
  {
   "cell_type": "code",
   "execution_count": 6,
   "id": "respected-hearing",
   "metadata": {},
   "outputs": [],
   "source": [
    "test_scor = \"C:/Users/m20200655/OneDrive - NOVAIMS/2º Semestre 2021/Text Mining/Project/Project laser embeddings/testset/en-zh/scores.csv\"\n",
    "testset_path_ref = \"C:/Users/m20200655/OneDrive - NOVAIMS/2º Semestre 2021/Text Mining/Project/Project laser embeddings/testset/en-zh/laser.reference_embeds.npy\"\n",
    "testset_path_source = \"C:/Users/m20200655/OneDrive - NOVAIMS/2º Semestre 2021/Text Mining/Project/Project laser embeddings/testset/en-zh/laser.source_embeds.npy\"\n",
    "testset_path_translation = \"C:/Users/m20200655/OneDrive - NOVAIMS/2º Semestre 2021/Text Mining/Project/Project laser embeddings/testset/en-zh/laser.translation_embeds.npy\""
   ]
  },
  {
   "cell_type": "code",
   "execution_count": 7,
   "id": "automotive-machine",
   "metadata": {},
   "outputs": [],
   "source": [
    "test_score = pd.read_csv(test_scor)\n",
    "testset_reference = np.load(testset_path_ref, mmap_mode=None, allow_pickle=False, fix_imports=True, encoding='ASCII')\n",
    "testset_source = np.load(testset_path_source, mmap_mode=None, allow_pickle=False, fix_imports=True, encoding='ASCII')\n",
    "testset_translation = np.load(testset_path_translation, mmap_mode=None, allow_pickle=False, fix_imports=True, encoding='ASCII')"
   ]
  },
  {
   "cell_type": "code",
   "execution_count": 8,
   "id": "tropical-inventory",
   "metadata": {},
   "outputs": [
    {
     "data": {
      "text/plain": [
       "(22128, 1024)"
      ]
     },
     "execution_count": 8,
     "metadata": {},
     "output_type": "execute_result"
    }
   ],
   "source": [
    "testset_reference.shape"
   ]
  },
  {
   "cell_type": "code",
   "execution_count": 9,
   "id": "checked-poetry",
   "metadata": {},
   "outputs": [
    {
     "name": "stdout",
     "output_type": "stream",
     "text": [
      "(22128, 22128) (22128, 22128)\n",
      "(22128, 1024) (22128, 1024)\n",
      "(22128, 48352) (22128, 3072)\n"
     ]
    }
   ],
   "source": [
    "# [h; r; h \f",
    "s; h \f",
    " r; |h − s|; |h − r|] \n",
    "\n",
    "# Dot product Translation + source\n",
    "h_dot_s = np.dot(testset_translation,testset_source.T)\n",
    "\n",
    "# dot product tranlation reference\n",
    "h_dot_r = np.dot(testset_translation,testset_reference.T)\n",
    "\n",
    "# Absolute difference translation-source\n",
    "abs_h_s = np.absolute(testset_translation - testset_source)\n",
    "abs_h_s.shape\n",
    "\n",
    "# Absolute difference translation-reference\n",
    "abs_h_r = np.absolute(testset_translation - testset_reference)\n",
    "abs_h_r.shape\n",
    "\n",
    "test = np.concatenate((testset_translation,testset_reference,h_dot_s,h_dot_r,abs_h_s,abs_h_r),axis=1)\n",
    "\n",
    "little_test = np.concatenate((testset_translation,testset_reference,abs_h_r),axis=1)\n",
    "\n",
    "print(h_dot_s.shape,h_dot_r.shape)\n",
    "print(abs_h_s.shape,abs_h_r.shape)\n",
    "print(test.shape,little_test.shape )"
   ]
  },
  {
   "cell_type": "markdown",
   "id": "broken-tactics",
   "metadata": {},
   "source": [
    "# Simple feed forward network"
   ]
  },
  {
   "cell_type": "markdown",
   "id": "brief-perception",
   "metadata": {},
   "source": [
    "<!-- # LSTM\n",
    "## Text Classification with RNN - bi-directional \n",
    "https://www.tensorflow.org/tutorials/text/text_classification_rnn -->"
   ]
  },
  {
   "cell_type": "code",
   "execution_count": 10,
   "id": "nonprofit-accommodation",
   "metadata": {},
   "outputs": [],
   "source": [
    "import matplotlib.pyplot as plt\n",
    "\n",
    "def plot_graphs(history, metric):\n",
    "    plt.plot(history.history[metric])\n",
    "    plt.plot(history.history['val_'+metric], '')\n",
    "    plt.xlabel(\"Epochs\")\n",
    "    plt.ylabel(metric)\n",
    "    plt.legend([metric, 'val_'+metric])"
   ]
  },
  {
   "cell_type": "code",
   "execution_count": 11,
   "id": "abroad-digit",
   "metadata": {},
   "outputs": [
    {
     "data": {
      "text/plain": [
       "(10221,)"
      ]
     },
     "execution_count": 11,
     "metadata": {},
     "output_type": "execute_result"
    }
   ],
   "source": [
    "reference_labels = np.array(corpus_scores['z-score'])\n",
    "reference_labels.shape"
   ]
  },
  {
   "cell_type": "code",
   "execution_count": 12,
   "id": "acting-beast",
   "metadata": {},
   "outputs": [
    {
     "data": {
      "text/plain": [
       "(10221, 3072)"
      ]
     },
     "execution_count": 12,
     "metadata": {},
     "output_type": "execute_result"
    }
   ],
   "source": [
    "X = little_train\n",
    "X.shape"
   ]
  },
  {
   "cell_type": "code",
   "execution_count": 13,
   "id": "fiscal-regulation",
   "metadata": {},
   "outputs": [
    {
     "data": {
      "text/plain": [
       "(10221,)"
      ]
     },
     "execution_count": 13,
     "metadata": {},
     "output_type": "execute_result"
    }
   ],
   "source": [
    "Y = reference_labels\n",
    "Y.shape"
   ]
  },
  {
   "cell_type": "code",
   "execution_count": 14,
   "id": "pointed-worthy",
   "metadata": {},
   "outputs": [
    {
     "name": "stdout",
     "output_type": "stream",
     "text": [
      "(8176, 3072) (8176,)\n",
      "(2045, 3072) (2045,)\n"
     ]
    }
   ],
   "source": [
    "X_train, X_val, Y_train, Y_val = train_test_split(X,Y, test_size = 0.20, random_state = 42)\n",
    "print(X_train.shape,Y_train.shape)\n",
    "print(X_val.shape,Y_val.shape)"
   ]
  },
  {
   "cell_type": "code",
   "execution_count": 15,
   "id": "hindu-cathedral",
   "metadata": {},
   "outputs": [],
   "source": [
    "# # X_train = X_train.reshape(-1,1,1024)\n",
    "# # X_val = X_val.reshape(-1,1,1024)\n",
    "# # Y_train = Y_train.reshape(-1,1,1)\n",
    "# # Y_val = Y_val.reshape(-1,1,1)\n",
    "# # print(X_train.shape,Y_train.shape)\n",
    "# # print(X_val.shape,Y_val.shape)\n",
    "\n",
    "# X_train=X_train.reshape(X_train.shape[0],X_train.shape[1],1)\n",
    "\n",
    "# # Y_train=Y_train.reshape(Y_train.shape[0],Y_train.shape[1],1)\n",
    "\n",
    "# X_val=X_val.reshape(X_val.shape[0],X_val.shape[1],1)\n",
    "\n",
    "# Y_val=Y_val.reshape(Y_val.shape[0],Y_val.shape[1],1)\n",
    "\n",
    "# print(X_train.shape,Y_train.shape)\n",
    "# print(X_val.shape,Y_val.shape)"
   ]
  },
  {
   "cell_type": "code",
   "execution_count": 16,
   "id": "quarterly-nirvana",
   "metadata": {},
   "outputs": [],
   "source": [
    "# Callbacks\n",
    "batch_size =10248\n",
    "\n",
    "early_stop = tf.keras.callbacks.EarlyStopping(monitor='loss', patience=25)\n",
    "\n",
    "reduce_lr = ReduceLROnPlateau(monitor='val_loss', factor=0.0001,\n",
    "                              patience=5, min_lr=0.0001)\n",
    "\n",
    "mcp = ModelCheckpoint('model.h5', \n",
    "                      monitor='val_loss', verbose=1, \n",
    "                      save_best_only=True, save_weights_only=True)"
   ]
  },
  {
   "cell_type": "code",
   "execution_count": 17,
   "id": "restricted-blood",
   "metadata": {},
   "outputs": [],
   "source": [
    "# model with better results \n",
    "model = Sequential()\n",
    "model.add(Dense(1024, input_shape=(X_train.shape[1],), activation = 'relu'))\n",
    "# model.add(Dropout(0.1))\n",
    "model.add(Dense(512, activation ='relu'))\n",
    "model.add(Dropout(0.1))\n",
    "model.add(Dense(256, activation ='relu'))\n",
    "model.add(Dropout(0.1))\n",
    "model.add(Dense(128, activation ='relu'))\n",
    "model.add(Dense(1))"
   ]
  },
  {
   "cell_type": "code",
   "execution_count": 18,
   "id": "respective-denial",
   "metadata": {},
   "outputs": [],
   "source": [
    "# # Callbacks\n",
    "\n",
    "# early_stop = tf.keras.callbacks.EarlyStopping(monitor='val_loss', patience=50)\n",
    "\n",
    "# reduce_lr = ReduceLROnPlateau(monitor='val_loss', factor=0.0001,\n",
    "#                               patience=5, min_lr=0.00001)\n",
    "\n",
    "# mcp = ModelCheckpoint('model.h5', \n",
    "#                       monitor='val_loss', verbose=0, \n",
    "#                       save_best_only=True, save_weights_only=True)\n",
    "\n",
    "# batch_size = 14336\n",
    "\n",
    "# model = Sequential()\n",
    "\n",
    "# model.add(Dense(2048, input_shape=(X_train.shape[1],), activation = 'relu'))\n",
    "# # model.add(Dropout(0.1))\n",
    "# model.add(Dense(1024, activation ='relu'))\n",
    "# model.add(Dropout(0.1))\n",
    "# model.add(Dense(512, activation ='relu'))\n",
    "# model.add(Dropout(0.1))\n",
    "# model.add(Dense(256, activation ='relu'))\n",
    "# model.add(Dropout(0.1))\n",
    "# model.add(Dense(128, activation ='relu'))\n",
    "# model.add(Dense(1))"
   ]
  },
  {
   "cell_type": "code",
   "execution_count": 19,
   "id": "offensive-involvement",
   "metadata": {},
   "outputs": [],
   "source": [
    "model.compile(loss=tf.keras.losses.MSE,\n",
    "              optimizer=tf.keras.optimizers.RMSprop(learning_rate=0.001),\n",
    "              metrics=['mae'])"
   ]
  },
  {
   "cell_type": "code",
   "execution_count": 20,
   "id": "steady-ending",
   "metadata": {},
   "outputs": [
    {
     "name": "stdout",
     "output_type": "stream",
     "text": [
      "Fit model on training data\n"
     ]
    }
   ],
   "source": [
    "print(\"Fit model on training data\")\n",
    "history = model.fit(\n",
    "    X_train,\n",
    "    Y_train,\n",
    "    epochs=150, # previous 1000\n",
    "    batch_size =batch_size,# previous one 8192 #4096 - best score so far\n",
    "    # We pass some validation for\n",
    "    # monitoring validation loss and metrics\n",
    "    # at the end of each epoch\n",
    "    validation_data=(X_val, Y_val),verbose =0, callbacks=[early_stop,reduce_lr]) # validation_split=0.2,mcp"
   ]
  },
  {
   "cell_type": "code",
   "execution_count": 21,
   "id": "representative-result",
   "metadata": {},
   "outputs": [
    {
     "data": {
      "text/plain": [
       "(0.0, 1.8411417335271836)"
      ]
     },
     "execution_count": 21,
     "metadata": {},
     "output_type": "execute_result"
    },
    {
     "data": {
      "image/png": "[encoded data removed]",
      "text/plain": [
       "<Figure size 1152x576 with 2 Axes>"
      ]
     },
     "metadata": {
      "needs_background": "light"
     },
     "output_type": "display_data"
    }
   ],
   "source": [
    "plt.figure(figsize=(16, 8))\n",
    "plt.subplot(1, 2, 1)\n",
    "plot_graphs(history, 'mae')\n",
    "plt.ylim(None, 1)\n",
    "plt.subplot(1, 2, 2)\n",
    "plot_graphs(history, 'loss')\n",
    "plt.ylim(0, None)"
   ]
  },
  {
   "cell_type": "code",
   "execution_count": 22,
   "id": "golden-grain",
   "metadata": {},
   "outputs": [
    {
     "name": "stdout",
     "output_type": "stream",
     "text": [
      "Evaluate on test data\n",
      "1/1 [==============================] - 0s 1ms/step - loss: 0.6577 - mae: 0.6564\n",
      "test loss, test acc: [0.6576748490333557, 0.6563846468925476]\n"
     ]
    }
   ],
   "source": [
    "# Evaluate the model on the test data using `evaluate`\n",
    "\n",
    "print(\"Evaluate on test data\")\n",
    "results = model.evaluate(X_val, Y_val, batch_size=batch_size)\n",
    "print(\"test loss, test acc:\", results)"
   ]
  },
  {
   "cell_type": "markdown",
   "id": "significant-anthony",
   "metadata": {},
   "source": [
    "# predicting @ test data"
   ]
  },
  {
   "cell_type": "code",
   "execution_count": 23,
   "id": "economic-allergy",
   "metadata": {},
   "outputs": [
    {
     "name": "stdout",
     "output_type": "stream",
     "text": [
      "Generate predictions samples\n",
      "predictions shape: (22128, 1)\n"
     ]
    }
   ],
   "source": [
    "# Generate predictions (probabilities -- the output of the last layer) on new data using `predict`\n",
    "print(\"Generate predictions samples\")\n",
    "predictions = model.predict(little_test)\n",
    "print(\"predictions shape:\", predictions.shape)"
   ]
  },
  {
   "cell_type": "code",
   "execution_count": 24,
   "id": "divided-journey",
   "metadata": {},
   "outputs": [
    {
     "data": {
      "text/html": [
       "<div>\n",
       "<style scoped>\n",
       "    .dataframe tbody tr th:only-of-type {\n",
       "        vertical-align: middle;\n",
       "    }\n",
       "\n",
       "    .dataframe tbody tr th {\n",
       "        vertical-align: top;\n",
       "    }\n",
       "\n",
       "    .dataframe thead th {\n",
       "        text-align: right;\n",
       "    }\n",
       "</style>\n",
       "<table border=\"1\" class=\"dataframe\">\n",
       "  <thead>\n",
       "    <tr style=\"text-align: right;\">\n",
       "      <th></th>\n",
       "      <th>source</th>\n",
       "      <th>reference</th>\n",
       "      <th>translation</th>\n",
       "      <th>lp</th>\n",
       "      <th>score</th>\n",
       "    </tr>\n",
       "  </thead>\n",
       "  <tbody>\n",
       "    <tr>\n",
       "      <th>0</th>\n",
       "      <td>The future and the destinies of the citizens o...</td>\n",
       "      <td>世界上每个国家公民的未来和命运日益联系在一起。</td>\n",
       "      <td>世界各国人民前途命运越来越紧密地联系在一起。</td>\n",
       "      <td>en-zh</td>\n",
       "      <td>0.161049</td>\n",
       "    </tr>\n",
       "    <tr>\n",
       "      <th>1</th>\n",
       "      <td>After all that hard work, the finished result ...</td>\n",
       "      <td>经过那么多的努力，最终的结果现在已经可以揭晓了。</td>\n",
       "      <td>经过这么艰辛的工作，最终的结果现在才得以公布。</td>\n",
       "      <td>en-zh</td>\n",
       "      <td>0.259408</td>\n",
       "    </tr>\n",
       "    <tr>\n",
       "      <th>2</th>\n",
       "      <td>Author: researcher of Suning Institute of Fina...</td>\n",
       "      <td>作者：苏宁金融研究所研究员，财经专栏作家，财经评论员。</td>\n",
       "      <td>作者：苏宁金融研究院特约研究员，财经专栏作家，财经评论员。</td>\n",
       "      <td>en-zh</td>\n",
       "      <td>0.669757</td>\n",
       "    </tr>\n",
       "    <tr>\n",
       "      <th>3</th>\n",
       "      <td>“The Great Wall” tells the story of a Chinese ...</td>\n",
       "      <td>《长城》讲述了古代一支中国精锐部队在世界著名的中国长城上与怪物桃蒂英勇作战的故事。</td>\n",
       "      <td>《长城》讲述了在古代，一支中国精英部队为保卫人类，在举世闻名的长城上与怪兽饕餮进行生死决战的故事。</td>\n",
       "      <td>en-zh</td>\n",
       "      <td>0.331810</td>\n",
       "    </tr>\n",
       "    <tr>\n",
       "      <th>4</th>\n",
       "      <td>Our comrades from the Political Bureau should ...</td>\n",
       "      <td>政治局同志要学习历史，讲道理，不能混淆公、私利益，叫白黑，模糊义与利的界限，处理基于裙带关系...</td>\n",
       "      <td>中央政治局的同志都应该明史知理，不能颠倒了公私、混淆了是非、模糊了义利、放纵了亲情，要带头树...</td>\n",
       "      <td>en-zh</td>\n",
       "      <td>-0.000836</td>\n",
       "    </tr>\n",
       "  </tbody>\n",
       "</table>\n",
       "</div>"
      ],
      "text/plain": [
       "                                              source  \\\n",
       "0  The future and the destinies of the citizens o...   \n",
       "1  After all that hard work, the finished result ...   \n",
       "2  Author: researcher of Suning Institute of Fina...   \n",
       "3  “The Great Wall” tells the story of a Chinese ...   \n",
       "4  Our comrades from the Political Bureau should ...   \n",
       "\n",
       "                                           reference  \\\n",
       "0                            世界上每个国家公民的未来和命运日益联系在一起。   \n",
       "1                           经过那么多的努力，最终的结果现在已经可以揭晓了。   \n",
       "2                        作者：苏宁金融研究所研究员，财经专栏作家，财经评论员。   \n",
       "3          《长城》讲述了古代一支中国精锐部队在世界著名的中国长城上与怪物桃蒂英勇作战的故事。   \n",
       "4  政治局同志要学习历史，讲道理，不能混淆公、私利益，叫白黑，模糊义与利的界限，处理基于裙带关系...   \n",
       "\n",
       "                                         translation     lp     score  \n",
       "0                             世界各国人民前途命运越来越紧密地联系在一起。  en-zh  0.161049  \n",
       "1                            经过这么艰辛的工作，最终的结果现在才得以公布。  en-zh  0.259408  \n",
       "2                      作者：苏宁金融研究院特约研究员，财经专栏作家，财经评论员。  en-zh  0.669757  \n",
       "3  《长城》讲述了在古代，一支中国精英部队为保卫人类，在举世闻名的长城上与怪兽饕餮进行生死决战的故事。  en-zh  0.331810  \n",
       "4  中央政治局的同志都应该明史知理，不能颠倒了公私、混淆了是非、模糊了义利、放纵了亲情，要带头树...  en-zh -0.000836  "
      ]
     },
     "execution_count": 24,
     "metadata": {},
     "output_type": "execute_result"
    }
   ],
   "source": [
    "test_score['lp'] = 'en-zh'\n",
    "test_score['score'] = predictions\n",
    "test_score.head()"
   ]
  },
  {
   "cell_type": "code",
   "execution_count": 25,
   "id": "complicated-forwarding",
   "metadata": {},
   "outputs": [],
   "source": [
    "test_score.to_csv('en-zh_predictions.csv')"
   ]
  },
  {
   "cell_type": "markdown",
   "id": "choice-alexandria",
   "metadata": {},
   "source": [
    "# checking corr @ X_val"
   ]
  },
  {
   "cell_type": "code",
   "execution_count": 26,
   "id": "antique-russian",
   "metadata": {},
   "outputs": [
    {
     "name": "stdout",
     "output_type": "stream",
     "text": [
      "Generate predictions samples\n",
      "predictions shape: (2045, 1)\n"
     ]
    }
   ],
   "source": [
    "# Generate predictions (probabilities -- the output of the last layer) on new data using `predict`\n",
    "print(\"Generate predictions samples\")\n",
    "predictions = model.predict(X_val)\n",
    "print(\"predictions shape:\", predictions.shape)"
   ]
  },
  {
   "cell_type": "code",
   "execution_count": 27,
   "id": "phantom-atlas",
   "metadata": {},
   "outputs": [
    {
     "data": {
      "text/html": [
       "<div>\n",
       "<style scoped>\n",
       "    .dataframe tbody tr th:only-of-type {\n",
       "        vertical-align: middle;\n",
       "    }\n",
       "\n",
       "    .dataframe tbody tr th {\n",
       "        vertical-align: top;\n",
       "    }\n",
       "\n",
       "    .dataframe thead th {\n",
       "        text-align: right;\n",
       "    }\n",
       "</style>\n",
       "<table border=\"1\" class=\"dataframe\">\n",
       "  <thead>\n",
       "    <tr style=\"text-align: right;\">\n",
       "      <th></th>\n",
       "      <th>z-score</th>\n",
       "      <th>predictions</th>\n",
       "    </tr>\n",
       "  </thead>\n",
       "  <tbody>\n",
       "    <tr>\n",
       "      <th>z-score</th>\n",
       "      <td>1.000000</td>\n",
       "      <td>0.499668</td>\n",
       "    </tr>\n",
       "    <tr>\n",
       "      <th>predictions</th>\n",
       "      <td>0.499668</td>\n",
       "      <td>1.000000</td>\n",
       "    </tr>\n",
       "  </tbody>\n",
       "</table>\n",
       "</div>"
      ],
      "text/plain": [
       "              z-score  predictions\n",
       "z-score      1.000000     0.499668\n",
       "predictions  0.499668     1.000000"
      ]
     },
     "execution_count": 27,
     "metadata": {},
     "output_type": "execute_result"
    }
   ],
   "source": [
    "corr_data = pd.DataFrame([Y_val]).T\n",
    "pred = pd.DataFrame(predictions)\n",
    "corr_data['predictions'] = pred\n",
    "corr_data.columns = ['z-score','predictions']\n",
    "corr_data.corr()"
   ]
  }
 ],
 "metadata": {
  "kernelspec": {
   "display_name": "Python 3 (ipykernel)",
   "language": "python",
   "name": "python3"
  },
  "language_info": {
   "codemirror_mode": {
    "name": "ipython",
    "version": 3
   },
   "file_extension": ".py",
   "mimetype": "text/x-python",
   "name": "python",
   "nbconvert_exporter": "python",
   "pygments_lexer": "ipython3",
   "version": "3.8.11"
  }
 },
 "nbformat": 4,
 "nbformat_minor": 5
}
