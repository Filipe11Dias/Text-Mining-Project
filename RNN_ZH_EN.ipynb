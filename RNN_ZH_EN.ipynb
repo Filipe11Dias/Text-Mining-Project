{
 "cells": [
  {
   "cell_type": "code",
   "execution_count": 1,
   "id": "facial-length",
   "metadata": {},
   "outputs": [],
   "source": [
    "import pandas as pd\n",
    "import numpy as np\n",
    "\n",
    "import tensorflow as tf\n",
    "from tensorflow.keras import layers\n",
    "from tensorflow.keras.layers.experimental import preprocessing\n",
    "from tensorflow.keras import Input, layers\n",
    "from tensorflow.keras import activations\n",
    "from tensorflow.keras.models import *\n",
    "from tensorflow.keras.layers import *\n",
    "from tensorflow.keras import backend as k\n",
    "from tensorflow.keras.utils import plot_model\n",
    "from tensorflow.keras.callbacks import EarlyStopping, ReduceLROnPlateau, ModelCheckpoint\n",
    "\n",
    "from sklearn.model_selection import train_test_split\n",
    "from sklearn.metrics import classification_report\n",
    "\n",
    "\n",
    "# Make numpy values easier to read.\n",
    "np.set_printoptions(precision=3, suppress=True)"
   ]
  },
  {
   "cell_type": "markdown",
   "id": "blind-douglas",
   "metadata": {},
   "source": [
    "# ZH - English"
   ]
  },
  {
   "cell_type": "markdown",
   "id": "promising-hacker",
   "metadata": {},
   "source": [
    "## Training set "
   ]
  },
  {
   "cell_type": "code",
   "execution_count": 2,
   "id": "collective-committee",
   "metadata": {},
   "outputs": [],
   "source": [
    "# corpus_scor = \"C:/Users/pc/OneDrive - NOVAIMS/2º Semestre 2021/Text Mining/Project/Project laser embeddings/corpus/de-en/scores.csv\"\n",
    "# corpus_path_ref = \"C:/Users/pc/OneDrive - NOVAIMS/2º Semestre 2021/Text Mining/Project/Project laser embeddings/corpus/de-en/laser.reference_embeds.npy\"\n",
    "# corpus_path_source = \"C:/Users/pc/OneDrive - NOVAIMS/2º Semestre 2021/Text Mining/Project/Project laser embeddings/corpus/de-en/laser.source_embeds.npy\"\n",
    "# corpus_path_translation = \"C:/Users/pc/OneDrive - NOVAIMS/2º Semestre 2021/Text Mining/Project/Project laser embeddings/corpus/de-en/laser.translation_embeds.npy\""
   ]
  },
  {
   "cell_type": "code",
   "execution_count": 3,
   "id": "former-nomination",
   "metadata": {},
   "outputs": [],
   "source": [
    "corpus_scor = \"C:/Users/m20200655/OneDrive - NOVAIMS/2º Semestre 2021/Text Mining/Project/Project laser embeddings/corpus/zh-en/scores.csv\"\n",
    "corpus_path_ref = \"C:/Users/m20200655/OneDrive - NOVAIMS/2º Semestre 2021/Text Mining/Project/Project laser embeddings/corpus/zh-en/laser.reference_embeds.npy\"\n",
    "corpus_path_source = \"C:/Users/m20200655/OneDrive - NOVAIMS/2º Semestre 2021/Text Mining/Project/Project laser embeddings/corpus/zh-en/laser.source_embeds.npy\"\n",
    "corpus_path_translation = \"C:/Users/m20200655/OneDrive - NOVAIMS/2º Semestre 2021/Text Mining/Project/Project laser embeddings/corpus/zh-en/laser.translation_embeds.npy\""
   ]
  },
  {
   "cell_type": "code",
   "execution_count": 4,
   "id": "still-painting",
   "metadata": {},
   "outputs": [],
   "source": [
    "corpus_scores = pd.read_csv(corpus_scor)\n",
    "corpus_reference = np.load(corpus_path_ref, mmap_mode=None, allow_pickle=False, fix_imports=True, encoding='ASCII')\n",
    "corpus_source = np.load(corpus_path_source, mmap_mode=None, allow_pickle=False, fix_imports=True, encoding='ASCII')\n",
    "corpus_translation = np.load(corpus_path_translation, mmap_mode=None, allow_pickle=False, fix_imports=True, encoding='ASCII')"
   ]
  },
  {
   "cell_type": "code",
   "execution_count": 5,
   "id": "looking-portugal",
   "metadata": {},
   "outputs": [
    {
     "name": "stdout",
     "output_type": "stream",
     "text": [
      "(26419, 26419) (26419, 26419)\n",
      "(26419, 1024) (26419, 1024)\n",
      "(26419, 56934) (26419, 3072)\n"
     ]
    }
   ],
   "source": [
    "# [h; r; h \f",
    "s; h \f",
    " r; |h − s|; |h − r|] \n",
    "\n",
    "# Dot product Translation + source\n",
    "h_dot_s = np.dot(corpus_translation,corpus_source.T)\n",
    "\n",
    "# dot product tranlation reference\n",
    "h_dot_r = np.dot(corpus_translation,corpus_reference.T)\n",
    "\n",
    "# Absolute difference translation-source\n",
    "abs_h_s = np.absolute(corpus_translation - corpus_source)\n",
    "abs_h_s.shape\n",
    "\n",
    "# Absolute difference translation-reference\n",
    "abs_h_r = np.absolute(corpus_translation - corpus_reference)\n",
    "abs_h_r.shape\n",
    "\n",
    "train = np.concatenate((corpus_translation,corpus_reference,h_dot_s,h_dot_r,abs_h_s,abs_h_r),axis=1)\n",
    "\n",
    "little_train = np.concatenate((corpus_translation,corpus_reference,abs_h_r),axis=1)\n",
    "\n",
    "print(h_dot_s.shape,h_dot_r.shape)\n",
    "print(abs_h_s.shape,abs_h_r.shape)\n",
    "print(train.shape,little_train.shape )"
   ]
  },
  {
   "cell_type": "code",
   "execution_count": 6,
   "id": "necessary-hunter",
   "metadata": {},
   "outputs": [],
   "source": [
    "test_scor = \"C:/Users/m20200655/OneDrive - NOVAIMS/2º Semestre 2021/Text Mining/Project/Project laser embeddings/testset/zh-en/scores.csv\"\n",
    "testset_path_ref = \"C:/Users/m20200655/OneDrive - NOVAIMS/2º Semestre 2021/Text Mining/Project/Project laser embeddings/testset/zh-en/laser.reference_embeds.npy\"\n",
    "testset_path_source = \"C:/Users/m20200655/OneDrive - NOVAIMS/2º Semestre 2021/Text Mining/Project/Project laser embeddings/testset/zh-en/laser.source_embeds.npy\"\n",
    "testset_path_translation = \"C:/Users/m20200655/OneDrive - NOVAIMS/2º Semestre 2021/Text Mining/Project/Project laser embeddings/testset/zh-en/laser.translation_embeds.npy\""
   ]
  },
  {
   "cell_type": "code",
   "execution_count": 7,
   "id": "environmental-texas",
   "metadata": {},
   "outputs": [],
   "source": [
    "test_score = pd.read_csv(test_scor)\n",
    "testset_reference = np.load(testset_path_ref, mmap_mode=None, allow_pickle=False, fix_imports=True, encoding='ASCII')\n",
    "testset_source = np.load(testset_path_source, mmap_mode=None, allow_pickle=False, fix_imports=True, encoding='ASCII')\n",
    "testset_translation = np.load(testset_path_translation, mmap_mode=None, allow_pickle=False, fix_imports=True, encoding='ASCII')"
   ]
  },
  {
   "cell_type": "code",
   "execution_count": 8,
   "id": "universal-tackle",
   "metadata": {},
   "outputs": [
    {
     "data": {
      "text/plain": [
       "(25352, 1024)"
      ]
     },
     "execution_count": 8,
     "metadata": {},
     "output_type": "execute_result"
    }
   ],
   "source": [
    "testset_reference.shape"
   ]
  },
  {
   "cell_type": "code",
   "execution_count": 9,
   "id": "thorough-liberty",
   "metadata": {},
   "outputs": [
    {
     "name": "stdout",
     "output_type": "stream",
     "text": [
      "(25352, 25352) (25352, 25352)\n",
      "(25352, 1024) (25352, 1024)\n",
      "(25352, 54800) (25352, 3072)\n"
     ]
    }
   ],
   "source": [
    "# [h; r; h \f",
    "s; h \f",
    " r; |h − s|; |h − r|] \n",
    "\n",
    "# Dot product Translation + source\n",
    "h_dot_s = np.dot(testset_translation,testset_source.T)\n",
    "\n",
    "# dot product tranlation reference\n",
    "h_dot_r = np.dot(testset_translation,testset_reference.T)\n",
    "\n",
    "# Absolute difference translation-source\n",
    "abs_h_s = np.absolute(testset_translation - testset_source)\n",
    "abs_h_s.shape\n",
    "\n",
    "# Absolute difference translation-reference\n",
    "abs_h_r = np.absolute(testset_translation - testset_reference)\n",
    "abs_h_r.shape\n",
    "\n",
    "test = np.concatenate((testset_translation,testset_reference,h_dot_s,h_dot_r,abs_h_s,abs_h_r),axis=1)\n",
    "\n",
    "little_test = np.concatenate((testset_translation,testset_reference,abs_h_r),axis=1)\n",
    "\n",
    "print(h_dot_s.shape,h_dot_r.shape)\n",
    "print(abs_h_s.shape,abs_h_r.shape)\n",
    "print(test.shape,little_test.shape )"
   ]
  },
  {
   "cell_type": "markdown",
   "id": "prepared-wilson",
   "metadata": {},
   "source": [
    "# Simple feed forward network"
   ]
  },
  {
   "cell_type": "markdown",
   "id": "latin-toyota",
   "metadata": {},
   "source": [
    "<!-- # LSTM\n",
    "## Text Classification with RNN - bi-directional \n",
    "https://www.tensorflow.org/tutorials/text/text_classification_rnn -->"
   ]
  },
  {
   "cell_type": "code",
   "execution_count": 10,
   "id": "expanded-internet",
   "metadata": {},
   "outputs": [],
   "source": [
    "import matplotlib.pyplot as plt\n",
    "\n",
    "def plot_graphs(history, metric):\n",
    "    plt.plot(history.history[metric])\n",
    "    plt.plot(history.history['val_'+metric], '')\n",
    "    plt.xlabel(\"Epochs\")\n",
    "    plt.ylabel(metric)\n",
    "    plt.legend([metric, 'val_'+metric])"
   ]
  },
  {
   "cell_type": "code",
   "execution_count": 11,
   "id": "nominated-outside",
   "metadata": {},
   "outputs": [
    {
     "data": {
      "text/plain": [
       "(26419,)"
      ]
     },
     "execution_count": 11,
     "metadata": {},
     "output_type": "execute_result"
    }
   ],
   "source": [
    "reference_labels = np.array(corpus_scores['z-score'])\n",
    "reference_labels.shape"
   ]
  },
  {
   "cell_type": "code",
   "execution_count": 12,
   "id": "static-hazard",
   "metadata": {},
   "outputs": [
    {
     "data": {
      "text/plain": [
       "(26419, 3072)"
      ]
     },
     "execution_count": 12,
     "metadata": {},
     "output_type": "execute_result"
    }
   ],
   "source": [
    "X = little_train\n",
    "X.shape"
   ]
  },
  {
   "cell_type": "code",
   "execution_count": 13,
   "id": "fiscal-physiology",
   "metadata": {},
   "outputs": [
    {
     "data": {
      "text/plain": [
       "(26419,)"
      ]
     },
     "execution_count": 13,
     "metadata": {},
     "output_type": "execute_result"
    }
   ],
   "source": [
    "Y = reference_labels\n",
    "Y.shape"
   ]
  },
  {
   "cell_type": "code",
   "execution_count": 14,
   "id": "gothic-england",
   "metadata": {},
   "outputs": [
    {
     "name": "stdout",
     "output_type": "stream",
     "text": [
      "(21135, 3072) (21135,)\n",
      "(5284, 3072) (5284,)\n"
     ]
    }
   ],
   "source": [
    "X_train, X_val, Y_train, Y_val = train_test_split(X,Y, test_size = 0.20, random_state = 42)\n",
    "print(X_train.shape,Y_train.shape)\n",
    "print(X_val.shape,Y_val.shape)"
   ]
  },
  {
   "cell_type": "code",
   "execution_count": 15,
   "id": "japanese-nurse",
   "metadata": {},
   "outputs": [],
   "source": [
    "# # X_train = X_train.reshape(-1,1,1024)\n",
    "# # X_val = X_val.reshape(-1,1,1024)\n",
    "# # Y_train = Y_train.reshape(-1,1,1)\n",
    "# # Y_val = Y_val.reshape(-1,1,1)\n",
    "# # print(X_train.shape,Y_train.shape)\n",
    "# # print(X_val.shape,Y_val.shape)\n",
    "\n",
    "# X_train=X_train.reshape(X_train.shape[0],X_train.shape[1],1)\n",
    "\n",
    "# # Y_train=Y_train.reshape(Y_train.shape[0],Y_train.shape[1],1)\n",
    "\n",
    "# X_val=X_val.reshape(X_val.shape[0],X_val.shape[1],1)\n",
    "\n",
    "# Y_val=Y_val.reshape(Y_val.shape[0],Y_val.shape[1],1)\n",
    "\n",
    "# print(X_train.shape,Y_train.shape)\n",
    "# print(X_val.shape,Y_val.shape)"
   ]
  },
  {
   "cell_type": "code",
   "execution_count": 16,
   "id": "normal-prague",
   "metadata": {},
   "outputs": [],
   "source": [
    "# Callbacks\n",
    "batch_size =10248\n",
    "\n",
    "early_stop = tf.keras.callbacks.EarlyStopping(monitor='loss', patience=25)\n",
    "\n",
    "reduce_lr = ReduceLROnPlateau(monitor='val_loss', factor=0.0001,\n",
    "                              patience=5, min_lr=0.0001)\n",
    "\n",
    "mcp = ModelCheckpoint('model.h5', \n",
    "                      monitor='val_loss', verbose=1, \n",
    "                      save_best_only=True, save_weights_only=True)"
   ]
  },
  {
   "cell_type": "code",
   "execution_count": 17,
   "id": "flush-desktop",
   "metadata": {},
   "outputs": [],
   "source": [
    "# model with better results \n",
    "model = Sequential()\n",
    "model.add(Dense(1024, input_shape=(X_train.shape[1],), activation = 'relu'))\n",
    "# model.add(Dropout(0.1))\n",
    "model.add(Dense(512, activation ='relu'))\n",
    "model.add(Dropout(0.1))\n",
    "model.add(Dense(256, activation ='relu'))\n",
    "model.add(Dropout(0.1))\n",
    "model.add(Dense(128, activation ='relu'))\n",
    "model.add(Dense(1))"
   ]
  },
  {
   "cell_type": "code",
   "execution_count": 18,
   "id": "close-sentence",
   "metadata": {},
   "outputs": [],
   "source": [
    "# # Callbacks\n",
    "\n",
    "# early_stop = tf.keras.callbacks.EarlyStopping(monitor='val_loss', patience=50)\n",
    "\n",
    "# reduce_lr = ReduceLROnPlateau(monitor='val_loss', factor=0.0001,\n",
    "#                               patience=5, min_lr=0.00001)\n",
    "\n",
    "# mcp = ModelCheckpoint('model.h5', \n",
    "#                       monitor='val_loss', verbose=0, \n",
    "#                       save_best_only=True, save_weights_only=True)\n",
    "\n",
    "# batch_size = 14336\n",
    "\n",
    "# model = Sequential()\n",
    "\n",
    "# model.add(Dense(2048, input_shape=(X_train.shape[1],), activation = 'relu'))\n",
    "# # model.add(Dropout(0.1))\n",
    "# model.add(Dense(1024, activation ='relu'))\n",
    "# model.add(Dropout(0.1))\n",
    "# model.add(Dense(512, activation ='relu'))\n",
    "# model.add(Dropout(0.1))\n",
    "# model.add(Dense(256, activation ='relu'))\n",
    "# model.add(Dropout(0.1))\n",
    "# model.add(Dense(128, activation ='relu'))\n",
    "# model.add(Dense(1))"
   ]
  },
  {
   "cell_type": "code",
   "execution_count": 19,
   "id": "acceptable-cleanup",
   "metadata": {},
   "outputs": [],
   "source": [
    "model.compile(loss=tf.keras.losses.MSE,\n",
    "              optimizer=tf.keras.optimizers.RMSprop(learning_rate=0.001),\n",
    "              metrics=['mae'])"
   ]
  },
  {
   "cell_type": "code",
   "execution_count": 20,
   "id": "chicken-format",
   "metadata": {},
   "outputs": [
    {
     "name": "stdout",
     "output_type": "stream",
     "text": [
      "Fit model on training data\n"
     ]
    }
   ],
   "source": [
    "print(\"Fit model on training data\")\n",
    "history = model.fit(\n",
    "    X_train,\n",
    "    Y_train,\n",
    "    epochs=500, # previous 1000\n",
    "    batch_size =batch_size,# previous one 8192 #4096 - best score so far\n",
    "    # We pass some validation for\n",
    "    # monitoring validation loss and metrics\n",
    "    # at the end of each epoch\n",
    "    validation_data=(X_val, Y_val),verbose =0, callbacks=[early_stop,reduce_lr]) # validation_split=0.2,mcp"
   ]
  },
  {
   "cell_type": "code",
   "execution_count": 21,
   "id": "surface-kernel",
   "metadata": {},
   "outputs": [
    {
     "data": {
      "text/plain": [
       "(0.0, 1.5333777353167535)"
      ]
     },
     "execution_count": 21,
     "metadata": {},
     "output_type": "execute_result"
    },
    {
     "data": {
      "image/png": "[encoded data removed]",
      "text/plain": [
       "<Figure size 1152x576 with 2 Axes>"
      ]
     },
     "metadata": {
      "needs_background": "light"
     },
     "output_type": "display_data"
    }
   ],
   "source": [
    "plt.figure(figsize=(16, 8))\n",
    "plt.subplot(1, 2, 1)\n",
    "plot_graphs(history, 'mae')\n",
    "plt.ylim(None, 1)\n",
    "plt.subplot(1, 2, 2)\n",
    "plot_graphs(history, 'loss')\n",
    "plt.ylim(0, None)"
   ]
  },
  {
   "cell_type": "code",
   "execution_count": 22,
   "id": "tracked-singapore",
   "metadata": {},
   "outputs": [
    {
     "name": "stdout",
     "output_type": "stream",
     "text": [
      "Evaluate on test data\n",
      "1/1 [==============================] - 0s 1ms/step - loss: 0.6313 - mae: 0.6219\n",
      "test loss, test acc: [0.6313040256500244, 0.6219494342803955]\n"
     ]
    }
   ],
   "source": [
    "# Evaluate the model on the test data using `evaluate`\n",
    "\n",
    "print(\"Evaluate on test data\")\n",
    "results = model.evaluate(X_val, Y_val, batch_size=batch_size)\n",
    "print(\"test loss, test acc:\", results)"
   ]
  },
  {
   "cell_type": "markdown",
   "id": "compatible-present",
   "metadata": {},
   "source": [
    "# predicting @ test data"
   ]
  },
  {
   "cell_type": "code",
   "execution_count": 23,
   "id": "played-pharmacology",
   "metadata": {},
   "outputs": [
    {
     "name": "stdout",
     "output_type": "stream",
     "text": [
      "Generate predictions samples\n",
      "predictions shape: (25352, 1)\n"
     ]
    }
   ],
   "source": [
    "# Generate predictions (probabilities -- the output of the last layer) on new data using `predict`\n",
    "print(\"Generate predictions samples\")\n",
    "predictions = model.predict(little_test)\n",
    "print(\"predictions shape:\", predictions.shape)"
   ]
  },
  {
   "cell_type": "code",
   "execution_count": 24,
   "id": "sonic-tutorial",
   "metadata": {},
   "outputs": [
    {
     "data": {
      "text/html": [
       "<div>\n",
       "<style scoped>\n",
       "    .dataframe tbody tr th:only-of-type {\n",
       "        vertical-align: middle;\n",
       "    }\n",
       "\n",
       "    .dataframe tbody tr th {\n",
       "        vertical-align: top;\n",
       "    }\n",
       "\n",
       "    .dataframe thead th {\n",
       "        text-align: right;\n",
       "    }\n",
       "</style>\n",
       "<table border=\"1\" class=\"dataframe\">\n",
       "  <thead>\n",
       "    <tr style=\"text-align: right;\">\n",
       "      <th></th>\n",
       "      <th>source</th>\n",
       "      <th>reference</th>\n",
       "      <th>translation</th>\n",
       "      <th>lp</th>\n",
       "      <th>score</th>\n",
       "    </tr>\n",
       "  </thead>\n",
       "  <tbody>\n",
       "    <tr>\n",
       "      <th>0</th>\n",
       "      <td>已经批准筹建的，暂停批准开业</td>\n",
       "      <td>Where the preparation has been approved, the a...</td>\n",
       "      <td>Approval of opening on these establishments wi...</td>\n",
       "      <td>zh-en</td>\n",
       "      <td>-0.301454</td>\n",
       "    </tr>\n",
       "    <tr>\n",
       "      <th>1</th>\n",
       "      <td>王丰源在首发式发言中说，来美国前想找本书看看别人的经验，但他翻遍新华书店没找到关于留学美国中...</td>\n",
       "      <td>In his opening speech, Mr. Wang said he wanted...</td>\n",
       "      <td>Wang Fengyuan spoke at the launch of his new b...</td>\n",
       "      <td>zh-en</td>\n",
       "      <td>-0.457278</td>\n",
       "    </tr>\n",
       "    <tr>\n",
       "      <th>2</th>\n",
       "      <td>“如果你不致力于创造透明文化，你会失去人才，”维特拉诺说道。</td>\n",
       "      <td>\"if you're not committed to creating a culture...</td>\n",
       "      <td>\"If you're not committed to creating a culture...</td>\n",
       "      <td>zh-en</td>\n",
       "      <td>0.888513</td>\n",
       "    </tr>\n",
       "    <tr>\n",
       "      <th>3</th>\n",
       "      <td>不过前提是多国联军先停止对也门的袭击。</td>\n",
       "      <td>The premise, however, is that the coalition fo...</td>\n",
       "      <td>However, the premise is that the multinational...</td>\n",
       "      <td>zh-en</td>\n",
       "      <td>0.394524</td>\n",
       "    </tr>\n",
       "    <tr>\n",
       "      <th>4</th>\n",
       "      <td>“在此之前，我和前男友住在骑士桥的一个更大的房子里，”乔安妮说道。</td>\n",
       "      <td>\"before that, my ex and I lived in a bigger ho...</td>\n",
       "      <td>\"Before this, I was living with my ex in Knigh...</td>\n",
       "      <td>zh-en</td>\n",
       "      <td>-0.209283</td>\n",
       "    </tr>\n",
       "  </tbody>\n",
       "</table>\n",
       "</div>"
      ],
      "text/plain": [
       "                                              source  \\\n",
       "0                                     已经批准筹建的，暂停批准开业   \n",
       "1  王丰源在首发式发言中说，来美国前想找本书看看别人的经验，但他翻遍新华书店没找到关于留学美国中...   \n",
       "2                     “如果你不致力于创造透明文化，你会失去人才，”维特拉诺说道。   \n",
       "3                                不过前提是多国联军先停止对也门的袭击。   \n",
       "4                  “在此之前，我和前男友住在骑士桥的一个更大的房子里，”乔安妮说道。   \n",
       "\n",
       "                                           reference  \\\n",
       "0  Where the preparation has been approved, the a...   \n",
       "1  In his opening speech, Mr. Wang said he wanted...   \n",
       "2  \"if you're not committed to creating a culture...   \n",
       "3  The premise, however, is that the coalition fo...   \n",
       "4  \"before that, my ex and I lived in a bigger ho...   \n",
       "\n",
       "                                         translation     lp     score  \n",
       "0  Approval of opening on these establishments wi...  zh-en -0.301454  \n",
       "1  Wang Fengyuan spoke at the launch of his new b...  zh-en -0.457278  \n",
       "2  \"If you're not committed to creating a culture...  zh-en  0.888513  \n",
       "3  However, the premise is that the multinational...  zh-en  0.394524  \n",
       "4  \"Before this, I was living with my ex in Knigh...  zh-en -0.209283  "
      ]
     },
     "execution_count": 24,
     "metadata": {},
     "output_type": "execute_result"
    }
   ],
   "source": [
    "test_score['lp'] = 'zh-en'\n",
    "test_score['score'] = predictions\n",
    "test_score.head()"
   ]
  },
  {
   "cell_type": "code",
   "execution_count": 25,
   "id": "designing-wireless",
   "metadata": {},
   "outputs": [],
   "source": [
    "test_score.to_csv('zh-en_predictions.csv')"
   ]
  },
  {
   "cell_type": "markdown",
   "id": "minus-selection",
   "metadata": {},
   "source": [
    "# checking corr @ X_val"
   ]
  },
  {
   "cell_type": "code",
   "execution_count": 26,
   "id": "satisfactory-anxiety",
   "metadata": {},
   "outputs": [
    {
     "name": "stdout",
     "output_type": "stream",
     "text": [
      "Generate predictions samples\n",
      "predictions shape: (5284, 1)\n"
     ]
    }
   ],
   "source": [
    "# Generate predictions (probabilities -- the output of the last layer) on new data using `predict`\n",
    "print(\"Generate predictions samples\")\n",
    "predictions = model.predict(X_val)\n",
    "print(\"predictions shape:\", predictions.shape)"
   ]
  },
  {
   "cell_type": "code",
   "execution_count": 27,
   "id": "martial-yacht",
   "metadata": {},
   "outputs": [
    {
     "data": {
      "text/html": [
       "<div>\n",
       "<style scoped>\n",
       "    .dataframe tbody tr th:only-of-type {\n",
       "        vertical-align: middle;\n",
       "    }\n",
       "\n",
       "    .dataframe tbody tr th {\n",
       "        vertical-align: top;\n",
       "    }\n",
       "\n",
       "    .dataframe thead th {\n",
       "        text-align: right;\n",
       "    }\n",
       "</style>\n",
       "<table border=\"1\" class=\"dataframe\">\n",
       "  <thead>\n",
       "    <tr style=\"text-align: right;\">\n",
       "      <th></th>\n",
       "      <th>z-score</th>\n",
       "      <th>predictions</th>\n",
       "    </tr>\n",
       "  </thead>\n",
       "  <tbody>\n",
       "    <tr>\n",
       "      <th>z-score</th>\n",
       "      <td>1.000000</td>\n",
       "      <td>0.474003</td>\n",
       "    </tr>\n",
       "    <tr>\n",
       "      <th>predictions</th>\n",
       "      <td>0.474003</td>\n",
       "      <td>1.000000</td>\n",
       "    </tr>\n",
       "  </tbody>\n",
       "</table>\n",
       "</div>"
      ],
      "text/plain": [
       "              z-score  predictions\n",
       "z-score      1.000000     0.474003\n",
       "predictions  0.474003     1.000000"
      ]
     },
     "execution_count": 27,
     "metadata": {},
     "output_type": "execute_result"
    }
   ],
   "source": [
    "corr_data = pd.DataFrame([Y_val]).T\n",
    "pred = pd.DataFrame(predictions)\n",
    "corr_data['predictions'] = pred\n",
    "corr_data.columns = ['z-score','predictions']\n",
    "corr_data.corr()"
   ]
  }
 ],
 "metadata": {
  "kernelspec": {
   "display_name": "Python 3 (ipykernel)",
   "language": "python",
   "name": "python3"
  },
  "language_info": {
   "codemirror_mode": {
    "name": "ipython",
    "version": 3
   },
   "file_extension": ".py",
   "mimetype": "text/x-python",
   "name": "python",
   "nbconvert_exporter": "python",
   "pygments_lexer": "ipython3",
   "version": "3.8.11"
  }
 },
 "nbformat": 4,
 "nbformat_minor": 5
}
