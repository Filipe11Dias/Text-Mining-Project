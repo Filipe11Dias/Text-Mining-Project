{
 "cells": [
  {
   "cell_type": "code",
   "execution_count": 1,
   "id": "frozen-bottom",
   "metadata": {},
   "outputs": [],
   "source": [
    "import pandas as pd\n",
    "import numpy as np\n",
    "\n",
    "import tensorflow as tf\n",
    "from tensorflow.keras import layers\n",
    "from tensorflow.keras.layers.experimental import preprocessing\n",
    "from tensorflow.keras import Input, layers\n",
    "from tensorflow.keras import activations\n",
    "from tensorflow.keras.models import *\n",
    "from tensorflow.keras.layers import *\n",
    "from tensorflow.keras import backend as k\n",
    "from tensorflow.keras.utils import plot_model\n",
    "from tensorflow.keras.callbacks import EarlyStopping, ReduceLROnPlateau, ModelCheckpoint\n",
    "\n",
    "from sklearn.model_selection import train_test_split\n",
    "from sklearn.metrics import classification_report\n",
    "\n",
    "\n",
    "# Make numpy values easier to read.\n",
    "np.set_printoptions(precision=3, suppress=True)"
   ]
  },
  {
   "cell_type": "markdown",
   "id": "wooden-scope",
   "metadata": {},
   "source": [
    "# Russian - English"
   ]
  },
  {
   "cell_type": "markdown",
   "id": "dressed-liberal",
   "metadata": {},
   "source": [
    "## Training set "
   ]
  },
  {
   "cell_type": "code",
   "execution_count": 2,
   "id": "spectacular-column",
   "metadata": {},
   "outputs": [],
   "source": [
    "# corpus_scor = \"C:/Users/pc/OneDrive - NOVAIMS/2º Semestre 2021/Text Mining/Project/Project laser embeddings/corpus/de-en/scores.csv\"\n",
    "# corpus_path_ref = \"C:/Users/pc/OneDrive - NOVAIMS/2º Semestre 2021/Text Mining/Project/Project laser embeddings/corpus/de-en/laser.reference_embeds.npy\"\n",
    "# corpus_path_source = \"C:/Users/pc/OneDrive - NOVAIMS/2º Semestre 2021/Text Mining/Project/Project laser embeddings/corpus/de-en/laser.source_embeds.npy\"\n",
    "# corpus_path_translation = \"C:/Users/pc/OneDrive - NOVAIMS/2º Semestre 2021/Text Mining/Project/Project laser embeddings/corpus/de-en/laser.translation_embeds.npy\""
   ]
  },
  {
   "cell_type": "code",
   "execution_count": 3,
   "id": "focused-silence",
   "metadata": {},
   "outputs": [],
   "source": [
    "corpus_scor = \"C:/Users/m20200655/OneDrive - NOVAIMS/2º Semestre 2021/Text Mining/Project/Project laser embeddings/corpus/ru-en/scores.csv\"\n",
    "corpus_path_ref = \"C:/Users/m20200655/OneDrive - NOVAIMS/2º Semestre 2021/Text Mining/Project/Project laser embeddings/corpus/ru-en/laser.reference_embeds.npy\"\n",
    "corpus_path_source = \"C:/Users/m20200655/OneDrive - NOVAIMS/2º Semestre 2021/Text Mining/Project/Project laser embeddings/corpus/ru-en/laser.source_embeds.npy\"\n",
    "corpus_path_translation = \"C:/Users/m20200655/OneDrive - NOVAIMS/2º Semestre 2021/Text Mining/Project/Project laser embeddings/corpus/ru-en/laser.translation_embeds.npy\""
   ]
  },
  {
   "cell_type": "code",
   "execution_count": 4,
   "id": "verified-childhood",
   "metadata": {},
   "outputs": [],
   "source": [
    "corpus_scores = pd.read_csv(corpus_scor)\n",
    "corpus_reference = np.load(corpus_path_ref, mmap_mode=None, allow_pickle=False, fix_imports=True, encoding='ASCII')\n",
    "corpus_source = np.load(corpus_path_source, mmap_mode=None, allow_pickle=False, fix_imports=True, encoding='ASCII')\n",
    "corpus_translation = np.load(corpus_path_translation, mmap_mode=None, allow_pickle=False, fix_imports=True, encoding='ASCII')"
   ]
  },
  {
   "cell_type": "code",
   "execution_count": 5,
   "id": "musical-package",
   "metadata": {},
   "outputs": [
    {
     "name": "stdout",
     "output_type": "stream",
     "text": [
      "(17980, 17980) (17980, 17980)\n",
      "(17980, 1024) (17980, 1024)\n",
      "(17980, 40056) (17980, 3072)\n"
     ]
    }
   ],
   "source": [
    "# [h; r; h \f",
    "s; h \f",
    " r; |h − s|; |h − r|] \n",
    "\n",
    "# Dot product Translation + source\n",
    "h_dot_s = np.dot(corpus_translation,corpus_source.T)\n",
    "\n",
    "# dot product tranlation reference\n",
    "h_dot_r = np.dot(corpus_translation,corpus_reference.T)\n",
    "\n",
    "# Absolute difference translation-source\n",
    "abs_h_s = np.absolute(corpus_translation - corpus_source)\n",
    "abs_h_s.shape\n",
    "\n",
    "# Absolute difference translation-reference\n",
    "abs_h_r = np.absolute(corpus_translation - corpus_reference)\n",
    "abs_h_r.shape\n",
    "\n",
    "train = np.concatenate((corpus_translation,corpus_reference,h_dot_s,h_dot_r,abs_h_s,abs_h_r),axis=1)\n",
    "\n",
    "little_train = np.concatenate((corpus_translation,corpus_reference,abs_h_r),axis=1)\n",
    "\n",
    "print(h_dot_s.shape,h_dot_r.shape)\n",
    "print(abs_h_s.shape,abs_h_r.shape)\n",
    "print(train.shape,little_train.shape )"
   ]
  },
  {
   "cell_type": "code",
   "execution_count": 6,
   "id": "distant-chocolate",
   "metadata": {},
   "outputs": [],
   "source": [
    "test_scor = \"C:/Users/m20200655/OneDrive - NOVAIMS/2º Semestre 2021/Text Mining/Project/Project laser embeddings/testset/ru-en/scores.csv\"\n",
    "testset_path_ref = \"C:/Users/m20200655/OneDrive - NOVAIMS/2º Semestre 2021/Text Mining/Project/Project laser embeddings/testset/ru-en/laser.reference_embeds.npy\"\n",
    "testset_path_source = \"C:/Users/m20200655/OneDrive - NOVAIMS/2º Semestre 2021/Text Mining/Project/Project laser embeddings/testset/ru-en/laser.source_embeds.npy\"\n",
    "testset_path_translation = \"C:/Users/m20200655/OneDrive - NOVAIMS/2º Semestre 2021/Text Mining/Project/Project laser embeddings/testset/ru-en/laser.translation_embeds.npy\""
   ]
  },
  {
   "cell_type": "code",
   "execution_count": 7,
   "id": "lyric-humanity",
   "metadata": {},
   "outputs": [],
   "source": [
    "test_score = pd.read_csv(test_scor)\n",
    "testset_reference = np.load(testset_path_ref, mmap_mode=None, allow_pickle=False, fix_imports=True, encoding='ASCII')\n",
    "testset_source = np.load(testset_path_source, mmap_mode=None, allow_pickle=False, fix_imports=True, encoding='ASCII')\n",
    "testset_translation = np.load(testset_path_translation, mmap_mode=None, allow_pickle=False, fix_imports=True, encoding='ASCII')"
   ]
  },
  {
   "cell_type": "code",
   "execution_count": 8,
   "id": "serial-courtesy",
   "metadata": {},
   "outputs": [
    {
     "data": {
      "text/plain": [
       "(13157, 1024)"
      ]
     },
     "execution_count": 8,
     "metadata": {},
     "output_type": "execute_result"
    }
   ],
   "source": [
    "testset_reference.shape"
   ]
  },
  {
   "cell_type": "code",
   "execution_count": 9,
   "id": "empty-bermuda",
   "metadata": {},
   "outputs": [
    {
     "name": "stdout",
     "output_type": "stream",
     "text": [
      "(13157, 13157) (13157, 13157)\n",
      "(13157, 1024) (13157, 1024)\n",
      "(13157, 30410) (13157, 3072)\n"
     ]
    }
   ],
   "source": [
    "# [h; r; h \f",
    "s; h \f",
    " r; |h − s|; |h − r|] \n",
    "\n",
    "# Dot product Translation + source\n",
    "h_dot_s = np.dot(testset_translation,testset_source.T)\n",
    "\n",
    "# dot product tranlation reference\n",
    "h_dot_r = np.dot(testset_translation,testset_reference.T)\n",
    "\n",
    "# Absolute difference translation-source\n",
    "abs_h_s = np.absolute(testset_translation - testset_source)\n",
    "abs_h_s.shape\n",
    "\n",
    "# Absolute difference translation-reference\n",
    "abs_h_r = np.absolute(testset_translation - testset_reference)\n",
    "abs_h_r.shape\n",
    "\n",
    "test = np.concatenate((testset_translation,testset_reference,h_dot_s,h_dot_r,abs_h_s,abs_h_r),axis=1)\n",
    "\n",
    "little_test = np.concatenate((testset_translation,testset_reference,abs_h_r),axis=1)\n",
    "\n",
    "print(h_dot_s.shape,h_dot_r.shape)\n",
    "print(abs_h_s.shape,abs_h_r.shape)\n",
    "print(test.shape,little_test.shape )"
   ]
  },
  {
   "cell_type": "markdown",
   "id": "union-haven",
   "metadata": {},
   "source": [
    "# Simple feed forward network"
   ]
  },
  {
   "cell_type": "markdown",
   "id": "preliminary-growth",
   "metadata": {},
   "source": [
    "<!-- # LSTM\n",
    "## Text Classification with RNN - bi-directional \n",
    "https://www.tensorflow.org/tutorials/text/text_classification_rnn -->"
   ]
  },
  {
   "cell_type": "code",
   "execution_count": 10,
   "id": "laughing-professional",
   "metadata": {},
   "outputs": [],
   "source": [
    "import matplotlib.pyplot as plt\n",
    "\n",
    "def plot_graphs(history, metric):\n",
    "    plt.plot(history.history[metric])\n",
    "    plt.plot(history.history['val_'+metric], '')\n",
    "    plt.xlabel(\"Epochs\")\n",
    "    plt.ylabel(metric)\n",
    "    plt.legend([metric, 'val_'+metric])"
   ]
  },
  {
   "cell_type": "code",
   "execution_count": 11,
   "id": "ceramic-contrast",
   "metadata": {},
   "outputs": [
    {
     "data": {
      "text/plain": [
       "(17980,)"
      ]
     },
     "execution_count": 11,
     "metadata": {},
     "output_type": "execute_result"
    }
   ],
   "source": [
    "reference_labels = np.array(corpus_scores['z-score'])\n",
    "reference_labels.shape"
   ]
  },
  {
   "cell_type": "code",
   "execution_count": 12,
   "id": "apart-venture",
   "metadata": {},
   "outputs": [
    {
     "data": {
      "text/plain": [
       "(17980, 3072)"
      ]
     },
     "execution_count": 12,
     "metadata": {},
     "output_type": "execute_result"
    }
   ],
   "source": [
    "X = little_train\n",
    "X.shape"
   ]
  },
  {
   "cell_type": "code",
   "execution_count": 13,
   "id": "hawaiian-moore",
   "metadata": {},
   "outputs": [
    {
     "data": {
      "text/plain": [
       "(17980,)"
      ]
     },
     "execution_count": 13,
     "metadata": {},
     "output_type": "execute_result"
    }
   ],
   "source": [
    "Y = reference_labels\n",
    "Y.shape"
   ]
  },
  {
   "cell_type": "code",
   "execution_count": 14,
   "id": "stuck-dakota",
   "metadata": {},
   "outputs": [
    {
     "name": "stdout",
     "output_type": "stream",
     "text": [
      "(14384, 3072) (14384,)\n",
      "(3596, 3072) (3596,)\n"
     ]
    }
   ],
   "source": [
    "X_train, X_val, Y_train, Y_val = train_test_split(X,Y, test_size = 0.20, random_state = 42)\n",
    "print(X_train.shape,Y_train.shape)\n",
    "print(X_val.shape,Y_val.shape)"
   ]
  },
  {
   "cell_type": "code",
   "execution_count": 15,
   "id": "floral-tribune",
   "metadata": {},
   "outputs": [],
   "source": [
    "# # X_train = X_train.reshape(-1,1,1024)\n",
    "# # X_val = X_val.reshape(-1,1,1024)\n",
    "# # Y_train = Y_train.reshape(-1,1,1)\n",
    "# # Y_val = Y_val.reshape(-1,1,1)\n",
    "# # print(X_train.shape,Y_train.shape)\n",
    "# # print(X_val.shape,Y_val.shape)\n",
    "\n",
    "# X_train=X_train.reshape(X_train.shape[0],X_train.shape[1],1)\n",
    "\n",
    "# # Y_train=Y_train.reshape(Y_train.shape[0],Y_train.shape[1],1)\n",
    "\n",
    "# X_val=X_val.reshape(X_val.shape[0],X_val.shape[1],1)\n",
    "\n",
    "# Y_val=Y_val.reshape(Y_val.shape[0],Y_val.shape[1],1)\n",
    "\n",
    "# print(X_train.shape,Y_train.shape)\n",
    "# print(X_val.shape,Y_val.shape)"
   ]
  },
  {
   "cell_type": "code",
   "execution_count": 16,
   "id": "fixed-american",
   "metadata": {},
   "outputs": [],
   "source": [
    "# Callbacks\n",
    "batch_size =10248\n",
    "\n",
    "early_stop = tf.keras.callbacks.EarlyStopping(monitor='loss', patience=25)\n",
    "\n",
    "reduce_lr = ReduceLROnPlateau(monitor='val_loss', factor=0.0001,\n",
    "                              patience=5, min_lr=0.0001)\n",
    "\n",
    "mcp = ModelCheckpoint('model.h5', \n",
    "                      monitor='val_loss', verbose=1, \n",
    "                      save_best_only=True, save_weights_only=True)"
   ]
  },
  {
   "cell_type": "code",
   "execution_count": 17,
   "id": "meaning-commerce",
   "metadata": {},
   "outputs": [],
   "source": [
    "# model with better results \n",
    "model = Sequential()\n",
    "model.add(Dense(1024, input_shape=(X_train.shape[1],), activation = 'relu'))\n",
    "# model.add(Dropout(0.1))\n",
    "model.add(Dense(512, activation ='relu'))\n",
    "model.add(Dropout(0.1))\n",
    "model.add(Dense(256, activation ='relu'))\n",
    "model.add(Dropout(0.1))\n",
    "model.add(Dense(128, activation ='relu'))\n",
    "model.add(Dense(1))"
   ]
  },
  {
   "cell_type": "code",
   "execution_count": 18,
   "id": "digital-peace",
   "metadata": {},
   "outputs": [],
   "source": [
    "# # Callbacks\n",
    "\n",
    "# early_stop = tf.keras.callbacks.EarlyStopping(monitor='val_loss', patience=50)\n",
    "\n",
    "# reduce_lr = ReduceLROnPlateau(monitor='val_loss', factor=0.0001,\n",
    "#                               patience=5, min_lr=0.00001)\n",
    "\n",
    "# mcp = ModelCheckpoint('model.h5', \n",
    "#                       monitor='val_loss', verbose=0, \n",
    "#                       save_best_only=True, save_weights_only=True)\n",
    "\n",
    "# batch_size = 14336\n",
    "\n",
    "# model = Sequential()\n",
    "\n",
    "# model.add(Dense(2048, input_shape=(X_train.shape[1],), activation = 'relu'))\n",
    "# # model.add(Dropout(0.1))\n",
    "# model.add(Dense(1024, activation ='relu'))\n",
    "# model.add(Dropout(0.1))\n",
    "# model.add(Dense(512, activation ='relu'))\n",
    "# model.add(Dropout(0.1))\n",
    "# model.add(Dense(256, activation ='relu'))\n",
    "# model.add(Dropout(0.1))\n",
    "# model.add(Dense(128, activation ='relu'))\n",
    "# model.add(Dense(1))"
   ]
  },
  {
   "cell_type": "code",
   "execution_count": 19,
   "id": "wanted-habitat",
   "metadata": {},
   "outputs": [],
   "source": [
    "model.compile(loss=tf.keras.losses.MSE,\n",
    "              optimizer=tf.keras.optimizers.RMSprop(learning_rate=0.001),\n",
    "              metrics=['mae'])"
   ]
  },
  {
   "cell_type": "code",
   "execution_count": 20,
   "id": "collected-science",
   "metadata": {},
   "outputs": [
    {
     "name": "stdout",
     "output_type": "stream",
     "text": [
      "Fit model on training data\n"
     ]
    }
   ],
   "source": [
    "print(\"Fit model on training data\")\n",
    "history = model.fit(\n",
    "    X_train,\n",
    "    Y_train,\n",
    "    epochs=500, # previous 1000\n",
    "    batch_size =batch_size,# previous one 8192 #4096 - best score so far\n",
    "    # We pass some validation for\n",
    "    # monitoring validation loss and metrics\n",
    "    # at the end of each epoch\n",
    "    validation_data=(X_val, Y_val),verbose =0, callbacks=[early_stop,reduce_lr]) # validation_split=0.2,mcp"
   ]
  },
  {
   "cell_type": "code",
   "execution_count": 21,
   "id": "satisfied-combination",
   "metadata": {},
   "outputs": [
    {
     "data": {
      "text/plain": [
       "(0.0, 9.151429395377637)"
      ]
     },
     "execution_count": 21,
     "metadata": {},
     "output_type": "execute_result"
    },
    {
     "data": {
      "image/png": "[encoded data removed]",
      "text/plain": [
       "<Figure size 1152x576 with 2 Axes>"
      ]
     },
     "metadata": {
      "needs_background": "light"
     },
     "output_type": "display_data"
    }
   ],
   "source": [
    "plt.figure(figsize=(16, 8))\n",
    "plt.subplot(1, 2, 1)\n",
    "plot_graphs(history, 'mae')\n",
    "plt.ylim(None, 1)\n",
    "plt.subplot(1, 2, 2)\n",
    "plot_graphs(history, 'loss')\n",
    "plt.ylim(0, None)"
   ]
  },
  {
   "cell_type": "code",
   "execution_count": 22,
   "id": "entire-causing",
   "metadata": {},
   "outputs": [
    {
     "name": "stdout",
     "output_type": "stream",
     "text": [
      "Evaluate on test data\n",
      "1/1 [==============================] - 0s 500us/step - loss: 0.7358 - mae: 0.5994\n",
      "test loss, test acc: [0.7357944846153259, 0.5993658304214478]\n"
     ]
    }
   ],
   "source": [
    "# Evaluate the model on the test data using `evaluate`\n",
    "\n",
    "print(\"Evaluate on test data\")\n",
    "results = model.evaluate(X_val, Y_val, batch_size=batch_size)\n",
    "print(\"test loss, test acc:\", results)"
   ]
  },
  {
   "cell_type": "markdown",
   "id": "satellite-monitor",
   "metadata": {},
   "source": [
    "# predicting @ test data"
   ]
  },
  {
   "cell_type": "code",
   "execution_count": 23,
   "id": "silver-tennessee",
   "metadata": {},
   "outputs": [
    {
     "name": "stdout",
     "output_type": "stream",
     "text": [
      "Generate predictions samples\n",
      "predictions shape: (13157, 1)\n"
     ]
    }
   ],
   "source": [
    "# Generate predictions (probabilities -- the output of the last layer) on new data using `predict`\n",
    "print(\"Generate predictions samples\")\n",
    "predictions = model.predict(little_test)\n",
    "print(\"predictions shape:\", predictions.shape)"
   ]
  },
  {
   "cell_type": "code",
   "execution_count": 24,
   "id": "dated-newman",
   "metadata": {},
   "outputs": [
    {
     "data": {
      "text/html": [
       "<div>\n",
       "<style scoped>\n",
       "    .dataframe tbody tr th:only-of-type {\n",
       "        vertical-align: middle;\n",
       "    }\n",
       "\n",
       "    .dataframe tbody tr th {\n",
       "        vertical-align: top;\n",
       "    }\n",
       "\n",
       "    .dataframe thead th {\n",
       "        text-align: right;\n",
       "    }\n",
       "</style>\n",
       "<table border=\"1\" class=\"dataframe\">\n",
       "  <thead>\n",
       "    <tr style=\"text-align: right;\">\n",
       "      <th></th>\n",
       "      <th>source</th>\n",
       "      <th>reference</th>\n",
       "      <th>translation</th>\n",
       "      <th>lp</th>\n",
       "      <th>score</th>\n",
       "    </tr>\n",
       "  </thead>\n",
       "  <tbody>\n",
       "    <tr>\n",
       "      <th>0</th>\n",
       "      <td>Через полчаса обуглившийся клубень достают и п...</td>\n",
       "      <td>After half an hour, the charred tuber is taken...</td>\n",
       "      <td>After half-an-hour, the charred tuber is retri...</td>\n",
       "      <td>ru-en</td>\n",
       "      <td>0.202878</td>\n",
       "    </tr>\n",
       "    <tr>\n",
       "      <th>1</th>\n",
       "      <td>Здесь никто не думает отменять смертную казнь,...</td>\n",
       "      <td>Here, no one thinks to abolish the death penal...</td>\n",
       "      <td>Here, no one is concerned with abolishing the ...</td>\n",
       "      <td>ru-en</td>\n",
       "      <td>0.796215</td>\n",
       "    </tr>\n",
       "    <tr>\n",
       "      <th>2</th>\n",
       "      <td>Собеседники \"Известий\" в ОНФ отмечают, что док...</td>\n",
       "      <td>The interlocutors of\" Izvestiya \"in the onf no...</td>\n",
       "      <td>Izvestia’s sources in the ONF note that the re...</td>\n",
       "      <td>ru-en</td>\n",
       "      <td>0.193567</td>\n",
       "    </tr>\n",
       "    <tr>\n",
       "      <th>3</th>\n",
       "      <td>На древней Венере могли существовать океаны.</td>\n",
       "      <td>On the ancient Venus could exist in the oceans.</td>\n",
       "      <td>Oceans could have existed on ancient Venus.</td>\n",
       "      <td>ru-en</td>\n",
       "      <td>0.294019</td>\n",
       "    </tr>\n",
       "    <tr>\n",
       "      <th>4</th>\n",
       "      <td>До этого момента убийства оставались лишь исто...</td>\n",
       "      <td>Up to this point, the murders were just a stor...</td>\n",
       "      <td>Up until this point, the murders have remained...</td>\n",
       "      <td>ru-en</td>\n",
       "      <td>0.250378</td>\n",
       "    </tr>\n",
       "  </tbody>\n",
       "</table>\n",
       "</div>"
      ],
      "text/plain": [
       "                                              source  \\\n",
       "0  Через полчаса обуглившийся клубень достают и п...   \n",
       "1  Здесь никто не думает отменять смертную казнь,...   \n",
       "2  Собеседники \"Известий\" в ОНФ отмечают, что док...   \n",
       "3       На древней Венере могли существовать океаны.   \n",
       "4  До этого момента убийства оставались лишь исто...   \n",
       "\n",
       "                                           reference  \\\n",
       "0  After half an hour, the charred tuber is taken...   \n",
       "1  Here, no one thinks to abolish the death penal...   \n",
       "2  The interlocutors of\" Izvestiya \"in the onf no...   \n",
       "3    On the ancient Venus could exist in the oceans.   \n",
       "4  Up to this point, the murders were just a stor...   \n",
       "\n",
       "                                         translation     lp     score  \n",
       "0  After half-an-hour, the charred tuber is retri...  ru-en  0.202878  \n",
       "1  Here, no one is concerned with abolishing the ...  ru-en  0.796215  \n",
       "2  Izvestia’s sources in the ONF note that the re...  ru-en  0.193567  \n",
       "3        Oceans could have existed on ancient Venus.  ru-en  0.294019  \n",
       "4  Up until this point, the murders have remained...  ru-en  0.250378  "
      ]
     },
     "execution_count": 24,
     "metadata": {},
     "output_type": "execute_result"
    }
   ],
   "source": [
    "test_score['lp'] = 'ru-en'\n",
    "test_score['score'] = predictions\n",
    "test_score.head()"
   ]
  },
  {
   "cell_type": "code",
   "execution_count": 25,
   "id": "dependent-customs",
   "metadata": {},
   "outputs": [],
   "source": [
    "test_score.to_csv('ru-en_predictions.csv')"
   ]
  },
  {
   "cell_type": "markdown",
   "id": "necessary-exclusive",
   "metadata": {},
   "source": [
    "# checking corr @ X_val"
   ]
  },
  {
   "cell_type": "code",
   "execution_count": 26,
   "id": "yellow-repeat",
   "metadata": {},
   "outputs": [
    {
     "name": "stdout",
     "output_type": "stream",
     "text": [
      "Generate predictions samples\n",
      "predictions shape: (3596, 1)\n"
     ]
    }
   ],
   "source": [
    "# Generate predictions (probabilities -- the output of the last layer) on new data using `predict`\n",
    "print(\"Generate predictions samples\")\n",
    "predictions = model.predict(X_val)\n",
    "print(\"predictions shape:\", predictions.shape)"
   ]
  },
  {
   "cell_type": "code",
   "execution_count": 27,
   "id": "familiar-couple",
   "metadata": {},
   "outputs": [
    {
     "data": {
      "text/html": [
       "<div>\n",
       "<style scoped>\n",
       "    .dataframe tbody tr th:only-of-type {\n",
       "        vertical-align: middle;\n",
       "    }\n",
       "\n",
       "    .dataframe tbody tr th {\n",
       "        vertical-align: top;\n",
       "    }\n",
       "\n",
       "    .dataframe thead th {\n",
       "        text-align: right;\n",
       "    }\n",
       "</style>\n",
       "<table border=\"1\" class=\"dataframe\">\n",
       "  <thead>\n",
       "    <tr style=\"text-align: right;\">\n",
       "      <th></th>\n",
       "      <th>z-score</th>\n",
       "      <th>predictions</th>\n",
       "    </tr>\n",
       "  </thead>\n",
       "  <tbody>\n",
       "    <tr>\n",
       "      <th>z-score</th>\n",
       "      <td>1.000000</td>\n",
       "      <td>0.417442</td>\n",
       "    </tr>\n",
       "    <tr>\n",
       "      <th>predictions</th>\n",
       "      <td>0.417442</td>\n",
       "      <td>1.000000</td>\n",
       "    </tr>\n",
       "  </tbody>\n",
       "</table>\n",
       "</div>"
      ],
      "text/plain": [
       "              z-score  predictions\n",
       "z-score      1.000000     0.417442\n",
       "predictions  0.417442     1.000000"
      ]
     },
     "execution_count": 27,
     "metadata": {},
     "output_type": "execute_result"
    }
   ],
   "source": [
    "corr_data = pd.DataFrame([Y_val]).T\n",
    "pred = pd.DataFrame(predictions)\n",
    "corr_data['predictions'] = pred\n",
    "corr_data.columns = ['z-score','predictions']\n",
    "corr_data.corr()"
   ]
  }
 ],
 "metadata": {
  "kernelspec": {
   "display_name": "Python 3 (ipykernel)",
   "language": "python",
   "name": "python3"
  },
  "language_info": {
   "codemirror_mode": {
    "name": "ipython",
    "version": 3
   },
   "file_extension": ".py",
   "mimetype": "text/x-python",
   "name": "python",
   "nbconvert_exporter": "python",
   "pygments_lexer": "ipython3",
   "version": "3.8.11"
  }
 },
 "nbformat": 4,
 "nbformat_minor": 5
}
