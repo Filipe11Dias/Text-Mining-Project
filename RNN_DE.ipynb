{
 "cells": [
  {
   "cell_type": "code",
   "execution_count": 1,
   "id": "tough-repeat",
   "metadata": {},
   "outputs": [],
   "source": [
    "import pandas as pd\n",
    "import numpy as np\n",
    "\n",
    "import tensorflow as tf\n",
    "from tensorflow.keras import layers\n",
    "from tensorflow.keras.layers.experimental import preprocessing\n",
    "from tensorflow.keras import Input, layers\n",
    "from tensorflow.keras import activations\n",
    "from tensorflow.keras.models import *\n",
    "from tensorflow.keras.layers import *\n",
    "from tensorflow.keras import backend as k\n",
    "from tensorflow.keras.utils import plot_model\n",
    "from tensorflow.keras.callbacks import EarlyStopping, ReduceLROnPlateau, ModelCheckpoint\n",
    "\n",
    "from sklearn.model_selection import train_test_split\n",
    "from sklearn.metrics import classification_report\n",
    "\n",
    "\n",
    "# Make numpy values easier to read.\n",
    "np.set_printoptions(precision=3, suppress=True)"
   ]
  },
  {
   "cell_type": "markdown",
   "id": "subsequent-denmark",
   "metadata": {},
   "source": [
    "# Deutch - English"
   ]
  },
  {
   "cell_type": "markdown",
   "id": "progressive-spanking",
   "metadata": {},
   "source": [
    "## Training set "
   ]
  },
  {
   "cell_type": "code",
   "execution_count": 2,
   "id": "current-namibia",
   "metadata": {},
   "outputs": [],
   "source": [
    "# corpus_scor = \"C:/Users/pc/OneDrive - NOVAIMS/2º Semestre 2021/Text Mining/Project/Project laser embeddings/corpus/de-en/scores.csv\"\n",
    "# corpus_path_ref = \"C:/Users/pc/OneDrive - NOVAIMS/2º Semestre 2021/Text Mining/Project/Project laser embeddings/corpus/de-en/laser.reference_embeds.npy\"\n",
    "# corpus_path_source = \"C:/Users/pc/OneDrive - NOVAIMS/2º Semestre 2021/Text Mining/Project/Project laser embeddings/corpus/de-en/laser.source_embeds.npy\"\n",
    "# corpus_path_translation = \"C:/Users/pc/OneDrive - NOVAIMS/2º Semestre 2021/Text Mining/Project/Project laser embeddings/corpus/de-en/laser.translation_embeds.npy\""
   ]
  },
  {
   "cell_type": "code",
   "execution_count": 3,
   "id": "ambient-taxation",
   "metadata": {},
   "outputs": [],
   "source": [
    "corpus_scor = \"C:/Users/m20200655/OneDrive - NOVAIMS/2º Semestre 2021/Text Mining/Project/Project laser embeddings/corpus/de-en/scores.csv\"\n",
    "corpus_path_ref = \"C:/Users/m20200655/OneDrive - NOVAIMS/2º Semestre 2021/Text Mining/Project/Project laser embeddings/corpus/de-en/laser.reference_embeds.npy\"\n",
    "corpus_path_source = \"C:/Users/m20200655/OneDrive - NOVAIMS/2º Semestre 2021/Text Mining/Project/Project laser embeddings/corpus/de-en/laser.source_embeds.npy\"\n",
    "corpus_path_translation = \"C:/Users/m20200655/OneDrive - NOVAIMS/2º Semestre 2021/Text Mining/Project/Project laser embeddings/corpus/de-en/laser.translation_embeds.npy\""
   ]
  },
  {
   "cell_type": "code",
   "execution_count": 4,
   "id": "extreme-protection",
   "metadata": {},
   "outputs": [],
   "source": [
    "corpus_scores = pd.read_csv(corpus_scor)\n",
    "corpus_reference = np.load(corpus_path_ref, mmap_mode=None, allow_pickle=False, fix_imports=True, encoding='ASCII')\n",
    "corpus_source = np.load(corpus_path_source, mmap_mode=None, allow_pickle=False, fix_imports=True, encoding='ASCII')\n",
    "corpus_translation = np.load(corpus_path_translation, mmap_mode=None, allow_pickle=False, fix_imports=True, encoding='ASCII')"
   ]
  },
  {
   "cell_type": "code",
   "execution_count": 10,
   "id": "immune-cliff",
   "metadata": {},
   "outputs": [
    {
     "data": {
      "text/html": [
       "<div>\n",
       "<style scoped>\n",
       "    .dataframe tbody tr th:only-of-type {\n",
       "        vertical-align: middle;\n",
       "    }\n",
       "\n",
       "    .dataframe tbody tr th {\n",
       "        vertical-align: top;\n",
       "    }\n",
       "\n",
       "    .dataframe thead th {\n",
       "        text-align: right;\n",
       "    }\n",
       "</style>\n",
       "<table border=\"1\" class=\"dataframe\">\n",
       "  <thead>\n",
       "    <tr style=\"text-align: right;\">\n",
       "      <th></th>\n",
       "      <th>source</th>\n",
       "      <th>reference</th>\n",
       "      <th>translation</th>\n",
       "      <th>z-score</th>\n",
       "      <th>avg-score</th>\n",
       "      <th>annotators</th>\n",
       "    </tr>\n",
       "  </thead>\n",
       "  <tbody>\n",
       "    <tr>\n",
       "      <th>0</th>\n",
       "      <td>Ihr Zeitlupentempo maßen sie, als sie vor Spit...</td>\n",
       "      <td>Her timeless pace measures them when they equi...</td>\n",
       "      <td>Their slow speed was measured by researchers o...</td>\n",
       "      <td>-0.345024</td>\n",
       "      <td>76.0</td>\n",
       "      <td>1</td>\n",
       "    </tr>\n",
       "    <tr>\n",
       "      <th>1</th>\n",
       "      <td>Er sagte, dass die Bereiche ruhige Treffpunkte...</td>\n",
       "      <td>He said the areas offer quiet meeting points b...</td>\n",
       "      <td>He said the spaces provided calm meeting point...</td>\n",
       "      <td>0.903800</td>\n",
       "      <td>97.5</td>\n",
       "      <td>2</td>\n",
       "    </tr>\n",
       "    <tr>\n",
       "      <th>2</th>\n",
       "      <td>Für die Geschäftsleute an der B 27 ist es nur ...</td>\n",
       "      <td>For businessmen at the B 27, it's only a small...</td>\n",
       "      <td>This is only a small consolation for businesse...</td>\n",
       "      <td>0.700503</td>\n",
       "      <td>94.0</td>\n",
       "      <td>1</td>\n",
       "    </tr>\n",
       "    <tr>\n",
       "      <th>3</th>\n",
       "      <td>Diese Fähigkeit sei möglicherweise angeboren o...</td>\n",
       "      <td>This ability may be born or developed with gen...</td>\n",
       "      <td>This ability may be innate, or may develop as ...</td>\n",
       "      <td>-1.256572</td>\n",
       "      <td>51.5</td>\n",
       "      <td>2</td>\n",
       "    </tr>\n",
       "    <tr>\n",
       "      <th>4</th>\n",
       "      <td>Weil sie Wassertemperaturen um die sechs Grad ...</td>\n",
       "      <td>Because they prefer water temperatures around ...</td>\n",
       "      <td>They generally only come to the surface in win...</td>\n",
       "      <td>0.293909</td>\n",
       "      <td>87.0</td>\n",
       "      <td>2</td>\n",
       "    </tr>\n",
       "  </tbody>\n",
       "</table>\n",
       "</div>"
      ],
      "text/plain": [
       "                                              source  \\\n",
       "0  Ihr Zeitlupentempo maßen sie, als sie vor Spit...   \n",
       "1  Er sagte, dass die Bereiche ruhige Treffpunkte...   \n",
       "2  Für die Geschäftsleute an der B 27 ist es nur ...   \n",
       "3  Diese Fähigkeit sei möglicherweise angeboren o...   \n",
       "4  Weil sie Wassertemperaturen um die sechs Grad ...   \n",
       "\n",
       "                                           reference  \\\n",
       "0  Her timeless pace measures them when they equi...   \n",
       "1  He said the areas offer quiet meeting points b...   \n",
       "2  For businessmen at the B 27, it's only a small...   \n",
       "3  This ability may be born or developed with gen...   \n",
       "4  Because they prefer water temperatures around ...   \n",
       "\n",
       "                                         translation   z-score  avg-score  \\\n",
       "0  Their slow speed was measured by researchers o... -0.345024       76.0   \n",
       "1  He said the spaces provided calm meeting point...  0.903800       97.5   \n",
       "2  This is only a small consolation for businesse...  0.700503       94.0   \n",
       "3  This ability may be innate, or may develop as ... -1.256572       51.5   \n",
       "4  They generally only come to the surface in win...  0.293909       87.0   \n",
       "\n",
       "   annotators  \n",
       "0           1  \n",
       "1           2  \n",
       "2           1  \n",
       "3           2  \n",
       "4           2  "
      ]
     },
     "execution_count": 10,
     "metadata": {},
     "output_type": "execute_result"
    }
   ],
   "source": [
    "corpus_scores.head()"
   ]
  },
  {
   "cell_type": "code",
   "execution_count": 5,
   "id": "bibliographic-strengthening",
   "metadata": {},
   "outputs": [
    {
     "name": "stdout",
     "output_type": "stream",
     "text": [
      "(21704, 21704) (21704, 21704)\n",
      "(21704, 1024) (21704, 1024)\n",
      "(21704, 47504) (21704, 3072)\n"
     ]
    }
   ],
   "source": [
    "# [h; r; h \f",
    "s; h \f",
    " r; |h − s|; |h − r|] \n",
    "\n",
    "# Dot product Translation + source\n",
    "h_dot_s = np.dot(corpus_translation,corpus_source.T)\n",
    "\n",
    "# dot product tranlation reference\n",
    "h_dot_r = np.dot(corpus_translation,corpus_reference.T)\n",
    "\n",
    "# Absolute difference translation-source\n",
    "abs_h_s = np.absolute(corpus_translation - corpus_source)\n",
    "abs_h_s.shape\n",
    "\n",
    "# Absolute difference translation-reference\n",
    "abs_h_r = np.absolute(corpus_translation - corpus_reference)\n",
    "abs_h_r.shape\n",
    "\n",
    "train = np.concatenate((corpus_translation,corpus_reference,h_dot_s,h_dot_r,abs_h_s,abs_h_r),axis=1)\n",
    "\n",
    "little_train = np.concatenate((corpus_translation,corpus_reference,abs_h_r),axis=1)\n",
    "\n",
    "print(h_dot_s.shape,h_dot_r.shape)\n",
    "print(abs_h_s.shape,abs_h_r.shape)\n",
    "print(train.shape,little_train.shape )"
   ]
  },
  {
   "cell_type": "code",
   "execution_count": 6,
   "id": "complicated-rouge",
   "metadata": {},
   "outputs": [],
   "source": [
    "test_scor = \"C:/Users/m20200655/OneDrive - NOVAIMS/2º Semestre 2021/Text Mining/Project/Project laser embeddings/testset/de-en/scores.csv\"\n",
    "testset_path_ref = \"C:/Users/m20200655/OneDrive - NOVAIMS/2º Semestre 2021/Text Mining/Project/Project laser embeddings/testset/de-en/laser.reference_embeds.npy\"\n",
    "testset_path_source = \"C:/Users/m20200655/OneDrive - NOVAIMS/2º Semestre 2021/Text Mining/Project/Project laser embeddings/testset/de-en/laser.source_embeds.npy\"\n",
    "testset_path_translation = \"C:/Users/m20200655/OneDrive - NOVAIMS/2º Semestre 2021/Text Mining/Project/Project laser embeddings/testset/de-en/laser.translation_embeds.npy\""
   ]
  },
  {
   "cell_type": "code",
   "execution_count": 8,
   "id": "accessory-ecology",
   "metadata": {},
   "outputs": [],
   "source": [
    "test_score = pd.read_csv(test_scor)\n",
    "testset_reference = np.load(testset_path_ref, mmap_mode=None, allow_pickle=False, fix_imports=True, encoding='ASCII')\n",
    "testset_source = np.load(testset_path_source, mmap_mode=None, allow_pickle=False, fix_imports=True, encoding='ASCII')\n",
    "testset_translation = np.load(testset_path_translation, mmap_mode=None, allow_pickle=False, fix_imports=True, encoding='ASCII')"
   ]
  },
  {
   "cell_type": "code",
   "execution_count": 9,
   "id": "distinguished-boxing",
   "metadata": {},
   "outputs": [
    {
     "data": {
      "text/html": [
       "<div>\n",
       "<style scoped>\n",
       "    .dataframe tbody tr th:only-of-type {\n",
       "        vertical-align: middle;\n",
       "    }\n",
       "\n",
       "    .dataframe tbody tr th {\n",
       "        vertical-align: top;\n",
       "    }\n",
       "\n",
       "    .dataframe thead th {\n",
       "        text-align: right;\n",
       "    }\n",
       "</style>\n",
       "<table border=\"1\" class=\"dataframe\">\n",
       "  <thead>\n",
       "    <tr style=\"text-align: right;\">\n",
       "      <th></th>\n",
       "      <th>source</th>\n",
       "      <th>reference</th>\n",
       "      <th>translation</th>\n",
       "    </tr>\n",
       "  </thead>\n",
       "  <tbody>\n",
       "    <tr>\n",
       "      <th>0</th>\n",
       "      <td>Das Publikum ist fast gleichmäßig zwischen Sch...</td>\n",
       "      <td>The audience is almost evenly split between bl...</td>\n",
       "      <td>The audience is almost evenly split between bl...</td>\n",
       "    </tr>\n",
       "    <tr>\n",
       "      <th>1</th>\n",
       "      <td>Du kannst ihre Energie durch den Bildschirm sp...</td>\n",
       "      <td>You can feel their energy through the screen. \"\"</td>\n",
       "      <td>You can feel her energy through the screen.\"</td>\n",
       "    </tr>\n",
       "    <tr>\n",
       "      <th>2</th>\n",
       "      <td>Da die Adresse unbekannt ist, wird die Mithilf...</td>\n",
       "      <td>As the address is unknown, the help of the pop...</td>\n",
       "      <td>As the address is unknown, the assistance of t...</td>\n",
       "    </tr>\n",
       "    <tr>\n",
       "      <th>3</th>\n",
       "      <td>Arsenal-Manager Arsene Wenger, dessen Verein i...</td>\n",
       "      <td>Arsenal manager Arsene Wenger, whose club is o...</td>\n",
       "      <td>Arsenal manager Arsene Wenger, whose club is o...</td>\n",
       "    </tr>\n",
       "    <tr>\n",
       "      <th>4</th>\n",
       "      <td>Landwirtschaftsminister im Interview - Wie sch...</td>\n",
       "      <td>Agriculture Minister in the interview - How do...</td>\n",
       "      <td>Minister of Agriculture in interview – How do ...</td>\n",
       "    </tr>\n",
       "  </tbody>\n",
       "</table>\n",
       "</div>"
      ],
      "text/plain": [
       "                                              source  \\\n",
       "0  Das Publikum ist fast gleichmäßig zwischen Sch...   \n",
       "1  Du kannst ihre Energie durch den Bildschirm sp...   \n",
       "2  Da die Adresse unbekannt ist, wird die Mithilf...   \n",
       "3  Arsenal-Manager Arsene Wenger, dessen Verein i...   \n",
       "4  Landwirtschaftsminister im Interview - Wie sch...   \n",
       "\n",
       "                                           reference  \\\n",
       "0  The audience is almost evenly split between bl...   \n",
       "1   You can feel their energy through the screen. \"\"   \n",
       "2  As the address is unknown, the help of the pop...   \n",
       "3  Arsenal manager Arsene Wenger, whose club is o...   \n",
       "4  Agriculture Minister in the interview - How do...   \n",
       "\n",
       "                                         translation  \n",
       "0  The audience is almost evenly split between bl...  \n",
       "1       You can feel her energy through the screen.\"  \n",
       "2  As the address is unknown, the assistance of t...  \n",
       "3  Arsenal manager Arsene Wenger, whose club is o...  \n",
       "4  Minister of Agriculture in interview – How do ...  "
      ]
     },
     "execution_count": 9,
     "metadata": {},
     "output_type": "execute_result"
    }
   ],
   "source": [
    "test_score.head()"
   ]
  },
  {
   "cell_type": "code",
   "execution_count": 8,
   "id": "rational-insider",
   "metadata": {},
   "outputs": [
    {
     "data": {
      "text/plain": [
       "(28404, 1024)"
      ]
     },
     "execution_count": 8,
     "metadata": {},
     "output_type": "execute_result"
    }
   ],
   "source": [
    "testset_reference.shape"
   ]
  },
  {
   "cell_type": "code",
   "execution_count": 9,
   "id": "driving-earth",
   "metadata": {},
   "outputs": [
    {
     "name": "stdout",
     "output_type": "stream",
     "text": [
      "(28404, 28404) (28404, 28404)\n",
      "(28404, 1024) (28404, 1024)\n",
      "(28404, 60904) (28404, 3072)\n"
     ]
    }
   ],
   "source": [
    "# [h; r; h \f",
    "s; h \f",
    " r; |h − s|; |h − r|] \n",
    "\n",
    "# Dot product Translation + source\n",
    "h_dot_s = np.dot(testset_translation,testset_source.T)\n",
    "\n",
    "# dot product tranlation reference\n",
    "h_dot_r = np.dot(testset_translation,testset_reference.T)\n",
    "\n",
    "# Absolute difference translation-source\n",
    "abs_h_s = np.absolute(testset_translation - testset_source)\n",
    "abs_h_s.shape\n",
    "\n",
    "# Absolute difference translation-reference\n",
    "abs_h_r = np.absolute(testset_translation - testset_reference)\n",
    "abs_h_r.shape\n",
    "\n",
    "test = np.concatenate((testset_translation,testset_reference,h_dot_s,h_dot_r,abs_h_s,abs_h_r),axis=1)\n",
    "\n",
    "little_test = np.concatenate((testset_translation,testset_reference,abs_h_r),axis=1)\n",
    "\n",
    "print(h_dot_s.shape,h_dot_r.shape)\n",
    "print(abs_h_s.shape,abs_h_r.shape)\n",
    "print(test.shape,little_test.shape )"
   ]
  },
  {
   "cell_type": "markdown",
   "id": "reasonable-poland",
   "metadata": {},
   "source": [
    "# Simple feed forward network"
   ]
  },
  {
   "cell_type": "markdown",
   "id": "activated-nature",
   "metadata": {},
   "source": [
    "<!-- # LSTM\n",
    "## Text Classification with RNN - bi-directional \n",
    "https://www.tensorflow.org/tutorials/text/text_classification_rnn -->"
   ]
  },
  {
   "cell_type": "code",
   "execution_count": 10,
   "id": "express-exhibit",
   "metadata": {},
   "outputs": [],
   "source": [
    "import matplotlib.pyplot as plt\n",
    "\n",
    "def plot_graphs(history, metric):\n",
    "    plt.plot(history.history[metric])\n",
    "    plt.plot(history.history['val_'+metric], '')\n",
    "    plt.xlabel(\"Epochs\")\n",
    "    plt.ylabel(metric)\n",
    "    plt.legend([metric, 'val_'+metric])"
   ]
  },
  {
   "cell_type": "code",
   "execution_count": 11,
   "id": "split-clock",
   "metadata": {},
   "outputs": [
    {
     "data": {
      "text/plain": [
       "(21704,)"
      ]
     },
     "execution_count": 11,
     "metadata": {},
     "output_type": "execute_result"
    }
   ],
   "source": [
    "reference_labels = np.array(corpus_scores['z-score'])\n",
    "reference_labels.shape"
   ]
  },
  {
   "cell_type": "code",
   "execution_count": 12,
   "id": "olive-disposal",
   "metadata": {},
   "outputs": [
    {
     "data": {
      "text/plain": [
       "(21704, 3072)"
      ]
     },
     "execution_count": 12,
     "metadata": {},
     "output_type": "execute_result"
    }
   ],
   "source": [
    "X = little_train\n",
    "X.shape"
   ]
  },
  {
   "cell_type": "code",
   "execution_count": 13,
   "id": "proved-narrative",
   "metadata": {},
   "outputs": [
    {
     "data": {
      "text/plain": [
       "(21704,)"
      ]
     },
     "execution_count": 13,
     "metadata": {},
     "output_type": "execute_result"
    }
   ],
   "source": [
    "Y = reference_labels\n",
    "Y.shape"
   ]
  },
  {
   "cell_type": "code",
   "execution_count": 14,
   "id": "documentary-security",
   "metadata": {},
   "outputs": [
    {
     "name": "stdout",
     "output_type": "stream",
     "text": [
      "(17363, 3072) (17363,)\n",
      "(4341, 3072) (4341,)\n"
     ]
    }
   ],
   "source": [
    "X_train, X_val, Y_train, Y_val = train_test_split(X,Y, test_size = 0.20, random_state = 42)\n",
    "print(X_train.shape,Y_train.shape)\n",
    "print(X_val.shape,Y_val.shape)"
   ]
  },
  {
   "cell_type": "code",
   "execution_count": 15,
   "id": "legal-duration",
   "metadata": {},
   "outputs": [],
   "source": [
    "# # X_train = X_train.reshape(-1,1,1024)\n",
    "# # X_val = X_val.reshape(-1,1,1024)\n",
    "# # Y_train = Y_train.reshape(-1,1,1)\n",
    "# # Y_val = Y_val.reshape(-1,1,1)\n",
    "# # print(X_train.shape,Y_train.shape)\n",
    "# # print(X_val.shape,Y_val.shape)\n",
    "\n",
    "# X_train=X_train.reshape(X_train.shape[0],X_train.shape[1],1)\n",
    "\n",
    "# # Y_train=Y_train.reshape(Y_train.shape[0],Y_train.shape[1],1)\n",
    "\n",
    "# X_val=X_val.reshape(X_val.shape[0],X_val.shape[1],1)\n",
    "\n",
    "# Y_val=Y_val.reshape(Y_val.shape[0],Y_val.shape[1],1)\n",
    "\n",
    "# print(X_train.shape,Y_train.shape)\n",
    "# print(X_val.shape,Y_val.shape)"
   ]
  },
  {
   "cell_type": "code",
   "execution_count": 16,
   "id": "average-forge",
   "metadata": {},
   "outputs": [],
   "source": [
    "# Callbacks\n",
    "batch_size =10248\n",
    "\n",
    "early_stop = tf.keras.callbacks.EarlyStopping(monitor='loss', patience=25)\n",
    "\n",
    "reduce_lr = ReduceLROnPlateau(monitor='val_loss', factor=0.0001,\n",
    "                              patience=5, min_lr=0.0001)\n",
    "\n",
    "mcp = ModelCheckpoint('model.h5', \n",
    "                      monitor='val_loss', verbose=1, \n",
    "                      save_best_only=True, save_weights_only=True)"
   ]
  },
  {
   "cell_type": "code",
   "execution_count": 17,
   "id": "plastic-carnival",
   "metadata": {},
   "outputs": [],
   "source": [
    "# model with better results \n",
    "model = Sequential()\n",
    "model.add(Dense(1024, input_shape=(X_train.shape[1],), activation = 'relu'))\n",
    "# model.add(Dropout(0.1))\n",
    "model.add(Dense(512, activation ='relu'))\n",
    "model.add(Dropout(0.1))\n",
    "model.add(Dense(256, activation ='relu'))\n",
    "model.add(Dropout(0.1))\n",
    "model.add(Dense(128, activation ='relu'))\n",
    "model.add(Dense(1))"
   ]
  },
  {
   "cell_type": "code",
   "execution_count": 18,
   "id": "international-shipping",
   "metadata": {},
   "outputs": [],
   "source": [
    "# # Callbacks\n",
    "\n",
    "# early_stop = tf.keras.callbacks.EarlyStopping(monitor='val_loss', patience=50)\n",
    "\n",
    "# reduce_lr = ReduceLROnPlateau(monitor='val_loss', factor=0.0001,\n",
    "#                               patience=5, min_lr=0.00001)\n",
    "\n",
    "# mcp = ModelCheckpoint('model.h5', \n",
    "#                       monitor='val_loss', verbose=0, \n",
    "#                       save_best_only=True, save_weights_only=True)\n",
    "\n",
    "# batch_size = 14336\n",
    "\n",
    "# model = Sequential()\n",
    "\n",
    "# model.add(Dense(2048, input_shape=(X_train.shape[1],), activation = 'relu'))\n",
    "# # model.add(Dropout(0.1))\n",
    "# model.add(Dense(1024, activation ='relu'))\n",
    "# model.add(Dropout(0.1))\n",
    "# model.add(Dense(512, activation ='relu'))\n",
    "# model.add(Dropout(0.1))\n",
    "# model.add(Dense(256, activation ='relu'))\n",
    "# model.add(Dropout(0.1))\n",
    "# model.add(Dense(128, activation ='relu'))\n",
    "# model.add(Dense(1))"
   ]
  },
  {
   "cell_type": "code",
   "execution_count": 19,
   "id": "psychological-stocks",
   "metadata": {},
   "outputs": [],
   "source": [
    "model.compile(loss=tf.keras.losses.MSE,\n",
    "              optimizer=tf.keras.optimizers.RMSprop(learning_rate=0.001),\n",
    "              metrics=['mae'])"
   ]
  },
  {
   "cell_type": "code",
   "execution_count": 20,
   "id": "comic-brunswick",
   "metadata": {},
   "outputs": [
    {
     "name": "stdout",
     "output_type": "stream",
     "text": [
      "Fit model on training data\n"
     ]
    }
   ],
   "source": [
    "print(\"Fit model on training data\")\n",
    "history = model.fit(\n",
    "    X_train,\n",
    "    Y_train,\n",
    "    epochs=150, # previous 1000\n",
    "    batch_size =batch_size,# previous one 8192 #4096 - best score so far\n",
    "    # We pass some validation for\n",
    "    # monitoring validation loss and metrics\n",
    "    # at the end of each epoch\n",
    "    validation_data=(X_val, Y_val),verbose =0, callbacks=[early_stop,reduce_lr]) # validation_split=0.2,mcp"
   ]
  },
  {
   "cell_type": "code",
   "execution_count": 21,
   "id": "accessory-lyric",
   "metadata": {},
   "outputs": [
    {
     "data": {
      "text/plain": [
       "(0.0, 1.6558239102363586)"
      ]
     },
     "execution_count": 21,
     "metadata": {},
     "output_type": "execute_result"
    },
    {
     "data": {
      "image/png": "[encoded data removed]",
      "text/plain": [
       "<Figure size 1152x576 with 2 Axes>"
      ]
     },
     "metadata": {
      "needs_background": "light"
     },
     "output_type": "display_data"
    }
   ],
   "source": [
    "plt.figure(figsize=(16, 8))\n",
    "plt.subplot(1, 2, 1)\n",
    "plot_graphs(history, 'mae')\n",
    "plt.ylim(None, 1)\n",
    "plt.subplot(1, 2, 2)\n",
    "plot_graphs(history, 'loss')\n",
    "plt.ylim(0, None)"
   ]
  },
  {
   "cell_type": "code",
   "execution_count": 22,
   "id": "satellite-channel",
   "metadata": {},
   "outputs": [
    {
     "name": "stdout",
     "output_type": "stream",
     "text": [
      "Evaluate on test data\n",
      "1/1 [==============================] - 0s 500us/step - loss: 0.6387 - mae: 0.6443\n",
      "test loss, test acc: [0.638748049736023, 0.6443251967430115]\n"
     ]
    }
   ],
   "source": [
    "# Evaluate the model on the test data using `evaluate`\n",
    "\n",
    "print(\"Evaluate on test data\")\n",
    "results = model.evaluate(X_val, Y_val, batch_size=batch_size)\n",
    "print(\"test loss, test acc:\", results)"
   ]
  },
  {
   "cell_type": "markdown",
   "id": "correct-disease",
   "metadata": {},
   "source": [
    "# predicting @ test data"
   ]
  },
  {
   "cell_type": "code",
   "execution_count": 23,
   "id": "unexpected-gospel",
   "metadata": {},
   "outputs": [
    {
     "name": "stdout",
     "output_type": "stream",
     "text": [
      "Generate predictions samples\n",
      "predictions shape: (28404, 1)\n"
     ]
    }
   ],
   "source": [
    "# Generate predictions (probabilities -- the output of the last layer) on new data using `predict`\n",
    "print(\"Generate predictions samples\")\n",
    "predictions = model.predict(little_test)\n",
    "print(\"predictions shape:\", predictions.shape)"
   ]
  },
  {
   "cell_type": "code",
   "execution_count": 24,
   "id": "curious-perception",
   "metadata": {},
   "outputs": [
    {
     "data": {
      "text/html": [
       "<div>\n",
       "<style scoped>\n",
       "    .dataframe tbody tr th:only-of-type {\n",
       "        vertical-align: middle;\n",
       "    }\n",
       "\n",
       "    .dataframe tbody tr th {\n",
       "        vertical-align: top;\n",
       "    }\n",
       "\n",
       "    .dataframe thead th {\n",
       "        text-align: right;\n",
       "    }\n",
       "</style>\n",
       "<table border=\"1\" class=\"dataframe\">\n",
       "  <thead>\n",
       "    <tr style=\"text-align: right;\">\n",
       "      <th></th>\n",
       "      <th>source</th>\n",
       "      <th>reference</th>\n",
       "      <th>translation</th>\n",
       "      <th>lp</th>\n",
       "      <th>score</th>\n",
       "    </tr>\n",
       "  </thead>\n",
       "  <tbody>\n",
       "    <tr>\n",
       "      <th>0</th>\n",
       "      <td>Das Publikum ist fast gleichmäßig zwischen Sch...</td>\n",
       "      <td>The audience is almost evenly split between bl...</td>\n",
       "      <td>The audience is almost evenly split between bl...</td>\n",
       "      <td>de-en</td>\n",
       "      <td>0.718034</td>\n",
       "    </tr>\n",
       "    <tr>\n",
       "      <th>1</th>\n",
       "      <td>Du kannst ihre Energie durch den Bildschirm sp...</td>\n",
       "      <td>You can feel their energy through the screen. \"\"</td>\n",
       "      <td>You can feel her energy through the screen.\"</td>\n",
       "      <td>de-en</td>\n",
       "      <td>0.466494</td>\n",
       "    </tr>\n",
       "    <tr>\n",
       "      <th>2</th>\n",
       "      <td>Da die Adresse unbekannt ist, wird die Mithilf...</td>\n",
       "      <td>As the address is unknown, the help of the pop...</td>\n",
       "      <td>As the address is unknown, the assistance of t...</td>\n",
       "      <td>de-en</td>\n",
       "      <td>0.787594</td>\n",
       "    </tr>\n",
       "    <tr>\n",
       "      <th>3</th>\n",
       "      <td>Arsenal-Manager Arsene Wenger, dessen Verein i...</td>\n",
       "      <td>Arsenal manager Arsene Wenger, whose club is o...</td>\n",
       "      <td>Arsenal manager Arsene Wenger, whose club is o...</td>\n",
       "      <td>de-en</td>\n",
       "      <td>0.770549</td>\n",
       "    </tr>\n",
       "    <tr>\n",
       "      <th>4</th>\n",
       "      <td>Landwirtschaftsminister im Interview - Wie sch...</td>\n",
       "      <td>Agriculture Minister in the interview - How do...</td>\n",
       "      <td>Minister of Agriculture in interview – How do ...</td>\n",
       "      <td>de-en</td>\n",
       "      <td>-0.312158</td>\n",
       "    </tr>\n",
       "  </tbody>\n",
       "</table>\n",
       "</div>"
      ],
      "text/plain": [
       "                                              source  \\\n",
       "0  Das Publikum ist fast gleichmäßig zwischen Sch...   \n",
       "1  Du kannst ihre Energie durch den Bildschirm sp...   \n",
       "2  Da die Adresse unbekannt ist, wird die Mithilf...   \n",
       "3  Arsenal-Manager Arsene Wenger, dessen Verein i...   \n",
       "4  Landwirtschaftsminister im Interview - Wie sch...   \n",
       "\n",
       "                                           reference  \\\n",
       "0  The audience is almost evenly split between bl...   \n",
       "1   You can feel their energy through the screen. \"\"   \n",
       "2  As the address is unknown, the help of the pop...   \n",
       "3  Arsenal manager Arsene Wenger, whose club is o...   \n",
       "4  Agriculture Minister in the interview - How do...   \n",
       "\n",
       "                                         translation     lp     score  \n",
       "0  The audience is almost evenly split between bl...  de-en  0.718034  \n",
       "1       You can feel her energy through the screen.\"  de-en  0.466494  \n",
       "2  As the address is unknown, the assistance of t...  de-en  0.787594  \n",
       "3  Arsenal manager Arsene Wenger, whose club is o...  de-en  0.770549  \n",
       "4  Minister of Agriculture in interview – How do ...  de-en -0.312158  "
      ]
     },
     "execution_count": 24,
     "metadata": {},
     "output_type": "execute_result"
    }
   ],
   "source": [
    "test_score['lp'] = 'de-en'\n",
    "test_score['score'] = predictions\n",
    "test_score.head()"
   ]
  },
  {
   "cell_type": "code",
   "execution_count": 25,
   "id": "precise-davis",
   "metadata": {},
   "outputs": [],
   "source": [
    "test_score.to_csv('de-en_predictions.csv')"
   ]
  },
  {
   "cell_type": "markdown",
   "id": "cognitive-tucson",
   "metadata": {},
   "source": [
    "# checking corr @ X_val"
   ]
  },
  {
   "cell_type": "code",
   "execution_count": 26,
   "id": "tropical-proportion",
   "metadata": {},
   "outputs": [
    {
     "name": "stdout",
     "output_type": "stream",
     "text": [
      "Generate predictions samples\n",
      "predictions shape: (4341, 1)\n"
     ]
    }
   ],
   "source": [
    "# Generate predictions (probabilities -- the output of the last layer) on new data using `predict`\n",
    "print(\"Generate predictions samples\")\n",
    "predictions = model.predict(X_val)\n",
    "print(\"predictions shape:\", predictions.shape)"
   ]
  },
  {
   "cell_type": "code",
   "execution_count": 27,
   "id": "iraqi-ability",
   "metadata": {},
   "outputs": [
    {
     "data": {
      "text/html": [
       "<div>\n",
       "<style scoped>\n",
       "    .dataframe tbody tr th:only-of-type {\n",
       "        vertical-align: middle;\n",
       "    }\n",
       "\n",
       "    .dataframe tbody tr th {\n",
       "        vertical-align: top;\n",
       "    }\n",
       "\n",
       "    .dataframe thead th {\n",
       "        text-align: right;\n",
       "    }\n",
       "</style>\n",
       "<table border=\"1\" class=\"dataframe\">\n",
       "  <thead>\n",
       "    <tr style=\"text-align: right;\">\n",
       "      <th></th>\n",
       "      <th>z-score</th>\n",
       "      <th>predictions</th>\n",
       "    </tr>\n",
       "  </thead>\n",
       "  <tbody>\n",
       "    <tr>\n",
       "      <th>z-score</th>\n",
       "      <td>1.000000</td>\n",
       "      <td>0.428317</td>\n",
       "    </tr>\n",
       "    <tr>\n",
       "      <th>predictions</th>\n",
       "      <td>0.428317</td>\n",
       "      <td>1.000000</td>\n",
       "    </tr>\n",
       "  </tbody>\n",
       "</table>\n",
       "</div>"
      ],
      "text/plain": [
       "              z-score  predictions\n",
       "z-score      1.000000     0.428317\n",
       "predictions  0.428317     1.000000"
      ]
     },
     "execution_count": 27,
     "metadata": {},
     "output_type": "execute_result"
    }
   ],
   "source": [
    "corr_data = pd.DataFrame([Y_val]).T\n",
    "pred = pd.DataFrame(predictions)\n",
    "corr_data['predictions'] = pred\n",
    "corr_data.columns = ['z-score','predictions']\n",
    "corr_data.corr()"
   ]
  }
 ],
 "metadata": {
  "kernelspec": {
   "display_name": "Python 3 (ipykernel)",
   "language": "python",
   "name": "python3"
  },
  "language_info": {
   "codemirror_mode": {
    "name": "ipython",
    "version": 3
   },
   "file_extension": ".py",
   "mimetype": "text/x-python",
   "name": "python",
   "nbconvert_exporter": "python",
   "pygments_lexer": "ipython3",
   "version": "3.8.11"
  }
 },
 "nbformat": 4,
 "nbformat_minor": 5
}
